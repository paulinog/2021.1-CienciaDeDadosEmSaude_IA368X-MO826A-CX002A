{
  "nbformat": 4,
  "nbformat_minor": 0,
  "metadata": {
    "colab": {
      "name": "split_train_test_val.ipynb",
      "provenance": []
    },
    "kernelspec": {
      "name": "python3",
      "display_name": "Python 3"
    },
    "language_info": {
      "name": "python"
    }
  },
  "cells": [
    {
      "cell_type": "code",
      "metadata": {
        "colab": {
          "base_uri": "https://localhost:8080/"
        },
        "id": "2QX_qAYpD4zY",
        "outputId": "c54006c3-bb8f-41c3-cb31-049910ed2b41"
      },
      "source": [
        "from google.colab import drive\n",
        "drive.mount('/content/gdrive')"
      ],
      "execution_count": null,
      "outputs": [
        {
          "output_type": "stream",
          "text": [
            "Mounted at /content/gdrive\n"
          ],
          "name": "stdout"
        }
      ]
    },
    {
      "cell_type": "code",
      "metadata": {
        "id": "XJsKDwZIDxDX"
      },
      "source": [
        "import pandas as pd\n",
        "import numpy as np"
      ],
      "execution_count": null,
      "outputs": []
    },
    {
      "cell_type": "code",
      "metadata": {
        "id": "yTM0VA8ND3pQ"
      },
      "source": [
        "train_splits_path = 'gdrive/Shareddrives/MO286 - Visualização de Dados/data_csv/train_val_test_patIds/train.csv'\n",
        "test_splits_path = 'gdrive/Shareddrives/MO286 - Visualização de Dados/data_csv/train_val_test_patIds/test.csv'\n",
        "val_splits_path = 'gdrive/Shareddrives/MO286 - Visualização de Dados/data_csv/train_val_test_patIds/val.csv'\n",
        "\n",
        "series_processed_path ='gdrive/Shareddrives/MO286 - Visualização de Dados/data_images/train_val_test_datasets/16_slices_node_cls/imv_nodes_mapping.pkl'\n",
        "# series_processed_path = 'gdrive/Shareddrives/MO286 - Visualização de Dados/data_images/train_val_test_datasets/2d_cnn/2d_cnn.pkl'"
      ],
      "execution_count": null,
      "outputs": []
    },
    {
      "cell_type": "code",
      "metadata": {
        "id": "y0WWYizVEMou"
      },
      "source": [
        "train_splits_save = 'gdrive/Shareddrives/MO286 - Visualização de Dados/data_images/train_val_test_datasets/16_slices_node_cls/train.pkl'\n",
        "test_splits_save = 'gdrive/Shareddrives/MO286 - Visualização de Dados/data_images/train_val_test_datasets/16_slices_node_cls/test.pkl'\n",
        "val_splits_save = 'gdrive/Shareddrives/MO286 - Visualização de Dados/data_images/train_val_test_datasets/16_slices_node_cls/val.pkl'\n"
      ],
      "execution_count": null,
      "outputs": []
    },
    {
      "cell_type": "code",
      "metadata": {
        "id": "Uk-IAaEwGBBc"
      },
      "source": [
        "all_voxels = pd.read_pickle(series_processed_path)"
      ],
      "execution_count": null,
      "outputs": []
    },
    {
      "cell_type": "code",
      "metadata": {
        "id": "TJJ2hqdQGLB5"
      },
      "source": [
        "def get_mean(volume):\n",
        "  voxel = []\n",
        "  for v in volume:\n",
        "    voxel.append(v/255)\n",
        "  return voxel"
      ],
      "execution_count": null,
      "outputs": []
    },
    {
      "cell_type": "code",
      "metadata": {
        "id": "svxfsfGvF6Lt"
      },
      "source": [
        "# all_voxels.img_volume = all_voxels.img_volume.apply(lambda volume: get_mean(volume))\n",
        "# all_voxels.img_volume = all_voxels.img_volume.apply(lambda volume: get_mean(volume))"
      ],
      "execution_count": null,
      "outputs": []
    },
    {
      "cell_type": "code",
      "metadata": {
        "id": "9iAJhdc9DViV"
      },
      "source": [
        "# all_voxels.slices_a = all_voxels.slices_a.apply(lambda volume: get_mean(volume))\n",
        "\n",
        "# all_voxels.slices_b = all_voxels.slices_b.apply(lambda volume: get_mean(volume))\n",
        "\n",
        "# all_voxels.slices_c = all_voxels.slices_c.apply(lambda volume: get_mean(volume))"
      ],
      "execution_count": null,
      "outputs": []
    },
    {
      "cell_type": "code",
      "metadata": {
        "id": "Yc5ZYQLVGYI5"
      },
      "source": [
        "train_splits = pd.read_csv(train_splits_path)\n",
        "test_splits = pd.read_csv(test_splits_path)\n",
        "val_splits = pd.read_csv(val_splits_path)"
      ],
      "execution_count": null,
      "outputs": []
    },
    {
      "cell_type": "code",
      "metadata": {
        "id": "wQbItJm3HDrp"
      },
      "source": [
        "# train = all_voxels[all_voxels.paciente_id.isin(train_splits.paciente_id)]\n",
        "# test = all_voxels[all_voxels.paciente_id.isin(test_splits.paciente_id)]\n",
        "# val = all_voxels[all_voxels.paciente_id.isin(val_splits.paciente_id)]\n",
        "\n",
        "train = all_voxels[all_voxels.key.isin(train_splits.paciente_id)]\n",
        "test = all_voxels[all_voxels.key.isin(test_splits.paciente_id)]\n",
        "val = all_voxels[all_voxels.key.isin(val_splits.paciente_id)]"
      ],
      "execution_count": null,
      "outputs": []
    },
    {
      "cell_type": "code",
      "metadata": {
        "id": "h8JhH7obINIp"
      },
      "source": [
        "train.to_pickle(train_splits_save)\n",
        "test.to_pickle(test_splits_save)\n",
        "val.to_pickle(val_splits_save)"
      ],
      "execution_count": null,
      "outputs": []
    },
    {
      "cell_type": "code",
      "metadata": {
        "id": "AxCg7Xn-IT8q",
        "colab": {
          "base_uri": "https://localhost:8080/"
        },
        "outputId": "a78343c8-e4a0-415c-c26c-6d9ce7031267"
      },
      "source": [
        "test.shape, val.shape, train.shape"
      ],
      "execution_count": null,
      "outputs": [
        {
          "output_type": "execute_result",
          "data": {
            "text/plain": [
              "((40, 14), (41, 14), (116, 14))"
            ]
          },
          "metadata": {
            "tags": []
          },
          "execution_count": 11
        }
      ]
    },
    {
      "cell_type": "code",
      "metadata": {
        "id": "aOWEFrjcF4Hr",
        "colab": {
          "base_uri": "https://localhost:8080/"
        },
        "outputId": "4ec10419-b22d-4eb7-ef5c-657911e1fc59"
      },
      "source": [
        "np.unique(train.imv, return_counts=True), np.unique(val.imv, return_counts=True), np.unique(test.imv, return_counts=True)"
      ],
      "execution_count": null,
      "outputs": [
        {
          "output_type": "execute_result",
          "data": {
            "text/plain": [
              "((array([0, 1]), array([72, 44])),\n",
              " (array([0, 1]), array([21, 20])),\n",
              " (array([0, 1]), array([30, 10])))"
            ]
          },
          "metadata": {
            "tags": []
          },
          "execution_count": 12
        }
      ]
    },
    {
      "cell_type": "code",
      "metadata": {
        "id": "G8zsSprJD7IF"
      },
      "source": [
        ""
      ],
      "execution_count": null,
      "outputs": []
    }
  ]
}