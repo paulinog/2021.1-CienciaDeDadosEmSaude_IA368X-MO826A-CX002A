{
  "nbformat": 4,
  "nbformat_minor": 0,
  "metadata": {
    "colab": {
      "name": "crop_images_preprocessing.ipynb",
      "provenance": [],
      "collapsed_sections": [
        "zeY4ILN0l6Qg",
        "Q4POeq5MLVL_"
      ]
    },
    "kernelspec": {
      "name": "python3",
      "display_name": "Python 3"
    },
    "language_info": {
      "name": "python"
    }
  },
  "cells": [
    {
      "cell_type": "markdown",
      "metadata": {
        "id": "kv5eUVixKlfa"
      },
      "source": [
        "# Cortar as imagens\n",
        "\n",
        "A partir de um arquivo CSV (localizado em `data_csv/`), esse script identifica a região de interesse de todos os nódulos para cada fase (A, B e C) e recorta as imagens. \n",
        "\n",
        "Essa fase de pré-processamento é necessária para melhorar a acurácia da rede de predição proposta no trabalho. "
      ]
    },
    {
      "cell_type": "code",
      "metadata": {
        "id": "aAGAbZpjWPOA",
        "colab": {
          "base_uri": "https://localhost:8080/"
        },
        "outputId": "6f77c724-0604-4a6a-9333-89d787aea53d"
      },
      "source": [
        "from google.colab import drive\n",
        "drive.mount('/content/gdrive')"
      ],
      "execution_count": null,
      "outputs": [
        {
          "output_type": "stream",
          "text": [
            "Mounted at /content/gdrive\n"
          ],
          "name": "stdout"
        }
      ]
    },
    {
      "cell_type": "code",
      "metadata": {
        "id": "zOdpd6utWUjA"
      },
      "source": [
        "import os\n",
        "import pandas as pd\n",
        "import numpy as np\n",
        "from glob import glob\n",
        "import matplotlib.pyplot as plt\n",
        "#from PIL import Image\n",
        "#import cv2\n",
        "from tqdm import tqdm\n",
        "#import math"
      ],
      "execution_count": null,
      "outputs": []
    },
    {
      "cell_type": "code",
      "metadata": {
        "colab": {
          "base_uri": "https://localhost:8080/"
        },
        "id": "Euh1neMiqbdM",
        "outputId": "b06c105f-48ef-401e-dec7-3392fb0174d5"
      },
      "source": [
        "pip install pydicom"
      ],
      "execution_count": null,
      "outputs": [
        {
          "output_type": "stream",
          "text": [
            "Collecting pydicom\n",
            "\u001b[?25l  Downloading https://files.pythonhosted.org/packages/f4/15/df16546bc59bfca390cf072d473fb2c8acd4231636f64356593a63137e55/pydicom-2.1.2-py3-none-any.whl (1.9MB)\n",
            "\r\u001b[K     |▏                               | 10kB 13.4MB/s eta 0:00:01\r\u001b[K     |▍                               | 20kB 18.8MB/s eta 0:00:01\r\u001b[K     |▌                               | 30kB 23.3MB/s eta 0:00:01\r\u001b[K     |▊                               | 40kB 27.0MB/s eta 0:00:01\r\u001b[K     |▉                               | 51kB 28.2MB/s eta 0:00:01\r\u001b[K     |█                               | 61kB 29.8MB/s eta 0:00:01\r\u001b[K     |█▏                              | 71kB 30.7MB/s eta 0:00:01\r\u001b[K     |█▍                              | 81kB 31.4MB/s eta 0:00:01\r\u001b[K     |█▋                              | 92kB 31.5MB/s eta 0:00:01\r\u001b[K     |█▊                              | 102kB 32.1MB/s eta 0:00:01\r\u001b[K     |██                              | 112kB 32.1MB/s eta 0:00:01\r\u001b[K     |██                              | 122kB 32.1MB/s eta 0:00:01\r\u001b[K     |██▎                             | 133kB 32.1MB/s eta 0:00:01\r\u001b[K     |██▍                             | 143kB 32.1MB/s eta 0:00:01\r\u001b[K     |██▋                             | 153kB 32.1MB/s eta 0:00:01\r\u001b[K     |██▉                             | 163kB 32.1MB/s eta 0:00:01\r\u001b[K     |███                             | 174kB 32.1MB/s eta 0:00:01\r\u001b[K     |███▏                            | 184kB 32.1MB/s eta 0:00:01\r\u001b[K     |███▎                            | 194kB 32.1MB/s eta 0:00:01\r\u001b[K     |███▌                            | 204kB 32.1MB/s eta 0:00:01\r\u001b[K     |███▋                            | 215kB 32.1MB/s eta 0:00:01\r\u001b[K     |███▉                            | 225kB 32.1MB/s eta 0:00:01\r\u001b[K     |████                            | 235kB 32.1MB/s eta 0:00:01\r\u001b[K     |████▏                           | 245kB 32.1MB/s eta 0:00:01\r\u001b[K     |████▍                           | 256kB 32.1MB/s eta 0:00:01\r\u001b[K     |████▌                           | 266kB 32.1MB/s eta 0:00:01\r\u001b[K     |████▊                           | 276kB 32.1MB/s eta 0:00:01\r\u001b[K     |████▉                           | 286kB 32.1MB/s eta 0:00:01\r\u001b[K     |█████                           | 296kB 32.1MB/s eta 0:00:01\r\u001b[K     |█████▎                          | 307kB 32.1MB/s eta 0:00:01\r\u001b[K     |█████▍                          | 317kB 32.1MB/s eta 0:00:01\r\u001b[K     |█████▋                          | 327kB 32.1MB/s eta 0:00:01\r\u001b[K     |█████▊                          | 337kB 32.1MB/s eta 0:00:01\r\u001b[K     |██████                          | 348kB 32.1MB/s eta 0:00:01\r\u001b[K     |██████                          | 358kB 32.1MB/s eta 0:00:01\r\u001b[K     |██████▎                         | 368kB 32.1MB/s eta 0:00:01\r\u001b[K     |██████▌                         | 378kB 32.1MB/s eta 0:00:01\r\u001b[K     |██████▋                         | 389kB 32.1MB/s eta 0:00:01\r\u001b[K     |██████▉                         | 399kB 32.1MB/s eta 0:00:01\r\u001b[K     |███████                         | 409kB 32.1MB/s eta 0:00:01\r\u001b[K     |███████▏                        | 419kB 32.1MB/s eta 0:00:01\r\u001b[K     |███████▎                        | 430kB 32.1MB/s eta 0:00:01\r\u001b[K     |███████▌                        | 440kB 32.1MB/s eta 0:00:01\r\u001b[K     |███████▊                        | 450kB 32.1MB/s eta 0:00:01\r\u001b[K     |███████▉                        | 460kB 32.1MB/s eta 0:00:01\r\u001b[K     |████████                        | 471kB 32.1MB/s eta 0:00:01\r\u001b[K     |████████▏                       | 481kB 32.1MB/s eta 0:00:01\r\u001b[K     |████████▍                       | 491kB 32.1MB/s eta 0:00:01\r\u001b[K     |████████▌                       | 501kB 32.1MB/s eta 0:00:01\r\u001b[K     |████████▊                       | 512kB 32.1MB/s eta 0:00:01\r\u001b[K     |█████████                       | 522kB 32.1MB/s eta 0:00:01\r\u001b[K     |█████████                       | 532kB 32.1MB/s eta 0:00:01\r\u001b[K     |█████████▎                      | 542kB 32.1MB/s eta 0:00:01\r\u001b[K     |█████████▍                      | 552kB 32.1MB/s eta 0:00:01\r\u001b[K     |█████████▋                      | 563kB 32.1MB/s eta 0:00:01\r\u001b[K     |█████████▊                      | 573kB 32.1MB/s eta 0:00:01\r\u001b[K     |██████████                      | 583kB 32.1MB/s eta 0:00:01\r\u001b[K     |██████████▏                     | 593kB 32.1MB/s eta 0:00:01\r\u001b[K     |██████████▎                     | 604kB 32.1MB/s eta 0:00:01\r\u001b[K     |██████████▌                     | 614kB 32.1MB/s eta 0:00:01\r\u001b[K     |██████████▋                     | 624kB 32.1MB/s eta 0:00:01\r\u001b[K     |██████████▉                     | 634kB 32.1MB/s eta 0:00:01\r\u001b[K     |███████████                     | 645kB 32.1MB/s eta 0:00:01\r\u001b[K     |███████████▏                    | 655kB 32.1MB/s eta 0:00:01\r\u001b[K     |███████████▍                    | 665kB 32.1MB/s eta 0:00:01\r\u001b[K     |███████████▌                    | 675kB 32.1MB/s eta 0:00:01\r\u001b[K     |███████████▊                    | 686kB 32.1MB/s eta 0:00:01\r\u001b[K     |███████████▉                    | 696kB 32.1MB/s eta 0:00:01\r\u001b[K     |████████████                    | 706kB 32.1MB/s eta 0:00:01\r\u001b[K     |████████████▏                   | 716kB 32.1MB/s eta 0:00:01\r\u001b[K     |████████████▍                   | 727kB 32.1MB/s eta 0:00:01\r\u001b[K     |████████████▋                   | 737kB 32.1MB/s eta 0:00:01\r\u001b[K     |████████████▊                   | 747kB 32.1MB/s eta 0:00:01\r\u001b[K     |█████████████                   | 757kB 32.1MB/s eta 0:00:01\r\u001b[K     |█████████████                   | 768kB 32.1MB/s eta 0:00:01\r\u001b[K     |█████████████▎                  | 778kB 32.1MB/s eta 0:00:01\r\u001b[K     |█████████████▍                  | 788kB 32.1MB/s eta 0:00:01\r\u001b[K     |█████████████▋                  | 798kB 32.1MB/s eta 0:00:01\r\u001b[K     |█████████████▉                  | 808kB 32.1MB/s eta 0:00:01\r\u001b[K     |██████████████                  | 819kB 32.1MB/s eta 0:00:01\r\u001b[K     |██████████████▏                 | 829kB 32.1MB/s eta 0:00:01\r\u001b[K     |██████████████▎                 | 839kB 32.1MB/s eta 0:00:01\r\u001b[K     |██████████████▌                 | 849kB 32.1MB/s eta 0:00:01\r\u001b[K     |██████████████▋                 | 860kB 32.1MB/s eta 0:00:01\r\u001b[K     |██████████████▉                 | 870kB 32.1MB/s eta 0:00:01\r\u001b[K     |███████████████                 | 880kB 32.1MB/s eta 0:00:01\r\u001b[K     |███████████████▏                | 890kB 32.1MB/s eta 0:00:01\r\u001b[K     |███████████████▍                | 901kB 32.1MB/s eta 0:00:01\r\u001b[K     |███████████████▌                | 911kB 32.1MB/s eta 0:00:01\r\u001b[K     |███████████████▊                | 921kB 32.1MB/s eta 0:00:01\r\u001b[K     |███████████████▉                | 931kB 32.1MB/s eta 0:00:01\r\u001b[K     |████████████████                | 942kB 32.1MB/s eta 0:00:01\r\u001b[K     |████████████████▎               | 952kB 32.1MB/s eta 0:00:01\r\u001b[K     |████████████████▍               | 962kB 32.1MB/s eta 0:00:01\r\u001b[K     |████████████████▋               | 972kB 32.1MB/s eta 0:00:01\r\u001b[K     |████████████████▊               | 983kB 32.1MB/s eta 0:00:01\r\u001b[K     |█████████████████               | 993kB 32.1MB/s eta 0:00:01\r\u001b[K     |█████████████████               | 1.0MB 32.1MB/s eta 0:00:01\r\u001b[K     |█████████████████▎              | 1.0MB 32.1MB/s eta 0:00:01\r\u001b[K     |█████████████████▌              | 1.0MB 32.1MB/s eta 0:00:01\r\u001b[K     |█████████████████▋              | 1.0MB 32.1MB/s eta 0:00:01\r\u001b[K     |█████████████████▉              | 1.0MB 32.1MB/s eta 0:00:01\r\u001b[K     |██████████████████              | 1.1MB 32.1MB/s eta 0:00:01\r\u001b[K     |██████████████████▏             | 1.1MB 32.1MB/s eta 0:00:01\r\u001b[K     |██████████████████▎             | 1.1MB 32.1MB/s eta 0:00:01\r\u001b[K     |██████████████████▌             | 1.1MB 32.1MB/s eta 0:00:01\r\u001b[K     |██████████████████▊             | 1.1MB 32.1MB/s eta 0:00:01\r\u001b[K     |██████████████████▉             | 1.1MB 32.1MB/s eta 0:00:01\r\u001b[K     |███████████████████             | 1.1MB 32.1MB/s eta 0:00:01\r\u001b[K     |███████████████████▏            | 1.1MB 32.1MB/s eta 0:00:01\r\u001b[K     |███████████████████▍            | 1.1MB 32.1MB/s eta 0:00:01\r\u001b[K     |███████████████████▌            | 1.1MB 32.1MB/s eta 0:00:01\r\u001b[K     |███████████████████▊            | 1.2MB 32.1MB/s eta 0:00:01\r\u001b[K     |████████████████████            | 1.2MB 32.1MB/s eta 0:00:01\r\u001b[K     |████████████████████            | 1.2MB 32.1MB/s eta 0:00:01\r\u001b[K     |████████████████████▎           | 1.2MB 32.1MB/s eta 0:00:01\r\u001b[K     |████████████████████▍           | 1.2MB 32.1MB/s eta 0:00:01\r\u001b[K     |████████████████████▋           | 1.2MB 32.1MB/s eta 0:00:01\r\u001b[K     |████████████████████▊           | 1.2MB 32.1MB/s eta 0:00:01\r\u001b[K     |█████████████████████           | 1.2MB 32.1MB/s eta 0:00:01\r\u001b[K     |█████████████████████▏          | 1.2MB 32.1MB/s eta 0:00:01\r\u001b[K     |█████████████████████▎          | 1.2MB 32.1MB/s eta 0:00:01\r\u001b[K     |█████████████████████▌          | 1.3MB 32.1MB/s eta 0:00:01\r\u001b[K     |█████████████████████▋          | 1.3MB 32.1MB/s eta 0:00:01\r\u001b[K     |█████████████████████▉          | 1.3MB 32.1MB/s eta 0:00:01\r\u001b[K     |██████████████████████          | 1.3MB 32.1MB/s eta 0:00:01\r\u001b[K     |██████████████████████▏         | 1.3MB 32.1MB/s eta 0:00:01\r\u001b[K     |██████████████████████▍         | 1.3MB 32.1MB/s eta 0:00:01\r\u001b[K     |██████████████████████▌         | 1.3MB 32.1MB/s eta 0:00:01\r\u001b[K     |██████████████████████▊         | 1.3MB 32.1MB/s eta 0:00:01\r\u001b[K     |██████████████████████▉         | 1.3MB 32.1MB/s eta 0:00:01\r\u001b[K     |███████████████████████         | 1.4MB 32.1MB/s eta 0:00:01\r\u001b[K     |███████████████████████▏        | 1.4MB 32.1MB/s eta 0:00:01\r\u001b[K     |███████████████████████▍        | 1.4MB 32.1MB/s eta 0:00:01\r\u001b[K     |███████████████████████▋        | 1.4MB 32.1MB/s eta 0:00:01\r\u001b[K     |███████████████████████▊        | 1.4MB 32.1MB/s eta 0:00:01\r\u001b[K     |████████████████████████        | 1.4MB 32.1MB/s eta 0:00:01\r\u001b[K     |████████████████████████        | 1.4MB 32.1MB/s eta 0:00:01\r\u001b[K     |████████████████████████▎       | 1.4MB 32.1MB/s eta 0:00:01\r\u001b[K     |████████████████████████▍       | 1.4MB 32.1MB/s eta 0:00:01\r\u001b[K     |████████████████████████▋       | 1.4MB 32.1MB/s eta 0:00:01\r\u001b[K     |████████████████████████▉       | 1.5MB 32.1MB/s eta 0:00:01\r\u001b[K     |█████████████████████████       | 1.5MB 32.1MB/s eta 0:00:01\r\u001b[K     |█████████████████████████▏      | 1.5MB 32.1MB/s eta 0:00:01\r\u001b[K     |█████████████████████████▎      | 1.5MB 32.1MB/s eta 0:00:01\r\u001b[K     |█████████████████████████▌      | 1.5MB 32.1MB/s eta 0:00:01\r\u001b[K     |█████████████████████████▋      | 1.5MB 32.1MB/s eta 0:00:01\r\u001b[K     |█████████████████████████▉      | 1.5MB 32.1MB/s eta 0:00:01\r\u001b[K     |██████████████████████████      | 1.5MB 32.1MB/s eta 0:00:01\r\u001b[K     |██████████████████████████▏     | 1.5MB 32.1MB/s eta 0:00:01\r\u001b[K     |██████████████████████████▍     | 1.5MB 32.1MB/s eta 0:00:01\r\u001b[K     |██████████████████████████▌     | 1.6MB 32.1MB/s eta 0:00:01\r\u001b[K     |██████████████████████████▊     | 1.6MB 32.1MB/s eta 0:00:01\r\u001b[K     |██████████████████████████▉     | 1.6MB 32.1MB/s eta 0:00:01\r\u001b[K     |███████████████████████████     | 1.6MB 32.1MB/s eta 0:00:01\r\u001b[K     |███████████████████████████▎    | 1.6MB 32.1MB/s eta 0:00:01\r\u001b[K     |███████████████████████████▍    | 1.6MB 32.1MB/s eta 0:00:01\r\u001b[K     |███████████████████████████▋    | 1.6MB 32.1MB/s eta 0:00:01\r\u001b[K     |███████████████████████████▊    | 1.6MB 32.1MB/s eta 0:00:01\r\u001b[K     |████████████████████████████    | 1.6MB 32.1MB/s eta 0:00:01\r\u001b[K     |████████████████████████████    | 1.6MB 32.1MB/s eta 0:00:01\r\u001b[K     |████████████████████████████▎   | 1.7MB 32.1MB/s eta 0:00:01\r\u001b[K     |████████████████████████████▌   | 1.7MB 32.1MB/s eta 0:00:01\r\u001b[K     |████████████████████████████▋   | 1.7MB 32.1MB/s eta 0:00:01\r\u001b[K     |████████████████████████████▉   | 1.7MB 32.1MB/s eta 0:00:01\r\u001b[K     |█████████████████████████████   | 1.7MB 32.1MB/s eta 0:00:01\r\u001b[K     |█████████████████████████████▏  | 1.7MB 32.1MB/s eta 0:00:01\r\u001b[K     |█████████████████████████████▎  | 1.7MB 32.1MB/s eta 0:00:01\r\u001b[K     |█████████████████████████████▌  | 1.7MB 32.1MB/s eta 0:00:01\r\u001b[K     |█████████████████████████████▊  | 1.7MB 32.1MB/s eta 0:00:01\r\u001b[K     |█████████████████████████████▉  | 1.8MB 32.1MB/s eta 0:00:01\r\u001b[K     |██████████████████████████████  | 1.8MB 32.1MB/s eta 0:00:01\r\u001b[K     |██████████████████████████████▏ | 1.8MB 32.1MB/s eta 0:00:01\r\u001b[K     |██████████████████████████████▍ | 1.8MB 32.1MB/s eta 0:00:01\r\u001b[K     |██████████████████████████████▌ | 1.8MB 32.1MB/s eta 0:00:01\r\u001b[K     |██████████████████████████████▊ | 1.8MB 32.1MB/s eta 0:00:01\r\u001b[K     |███████████████████████████████ | 1.8MB 32.1MB/s eta 0:00:01\r\u001b[K     |███████████████████████████████ | 1.8MB 32.1MB/s eta 0:00:01\r\u001b[K     |███████████████████████████████▎| 1.8MB 32.1MB/s eta 0:00:01\r\u001b[K     |███████████████████████████████▍| 1.8MB 32.1MB/s eta 0:00:01\r\u001b[K     |███████████████████████████████▋| 1.9MB 32.1MB/s eta 0:00:01\r\u001b[K     |███████████████████████████████▊| 1.9MB 32.1MB/s eta 0:00:01\r\u001b[K     |████████████████████████████████| 1.9MB 32.1MB/s eta 0:00:01\r\u001b[K     |████████████████████████████████| 1.9MB 32.1MB/s \n",
            "\u001b[?25hInstalling collected packages: pydicom\n",
            "Successfully installed pydicom-2.1.2\n"
          ],
          "name": "stdout"
        }
      ]
    },
    {
      "cell_type": "code",
      "metadata": {
        "id": "xzf_YLFPqjWO"
      },
      "source": [
        "import pydicom"
      ],
      "execution_count": null,
      "outputs": []
    },
    {
      "cell_type": "markdown",
      "metadata": {
        "id": "80_AJIXHLLID"
      },
      "source": [
        "## 1) Lendo o CSV para cada fase\n",
        "\n",
        "Abrir os arquivos CSV, e interpretar o valor contido nas tabelas."
      ]
    },
    {
      "cell_type": "code",
      "metadata": {
        "id": "6nB0EOKyMTzh"
      },
      "source": [
        "csv_node_A = 'gdrive/Shareddrives/MO286 - Visualização de Dados/data_csv/crop_node_a.csv'\n",
        "csv_node_B = 'gdrive/Shareddrives/MO286 - Visualização de Dados/data_csv/crop_node_b.csv'\n",
        "csv_node_C = 'gdrive/Shareddrives/MO286 - Visualização de Dados/data_csv/crop_node_c.csv'"
      ],
      "execution_count": null,
      "outputs": []
    },
    {
      "cell_type": "code",
      "metadata": {
        "id": "Az7ywK-IPGDo"
      },
      "source": [
        "nod_A = pd.read_csv(csv_node_A)\n",
        "nod_B = pd.read_csv(csv_node_B)\n",
        "nod_C = pd.read_csv(csv_node_C)"
      ],
      "execution_count": null,
      "outputs": []
    },
    {
      "cell_type": "code",
      "metadata": {
        "colab": {
          "base_uri": "https://localhost:8080/"
        },
        "id": "p1pPEpwhQpgE",
        "outputId": "064c3a3c-0f03-448c-f2f5-883b407d7e86"
      },
      "source": [
        "type(nod_A)"
      ],
      "execution_count": null,
      "outputs": [
        {
          "output_type": "execute_result",
          "data": {
            "text/plain": [
              "pandas.core.frame.DataFrame"
            ]
          },
          "metadata": {
            "tags": []
          },
          "execution_count": 7
        }
      ]
    },
    {
      "cell_type": "code",
      "metadata": {
        "colab": {
          "base_uri": "https://localhost:8080/",
          "height": 204
        },
        "id": "2zWVSytBPuOf",
        "outputId": "9d9b5503-c82d-4620-f0ec-e6cfa9eade40"
      },
      "source": [
        "nod_A.head()"
      ],
      "execution_count": null,
      "outputs": [
        {
          "output_type": "execute_result",
          "data": {
            "text/html": [
              "<div>\n",
              "<style scoped>\n",
              "    .dataframe tbody tr th:only-of-type {\n",
              "        vertical-align: middle;\n",
              "    }\n",
              "\n",
              "    .dataframe tbody tr th {\n",
              "        vertical-align: top;\n",
              "    }\n",
              "\n",
              "    .dataframe thead th {\n",
              "        text-align: right;\n",
              "    }\n",
              "</style>\n",
              "<table border=\"1\" class=\"dataframe\">\n",
              "  <thead>\n",
              "    <tr style=\"text-align: right;\">\n",
              "      <th></th>\n",
              "      <th>num_nod</th>\n",
              "      <th>tam_nod_tc_cm</th>\n",
              "      <th>invasao_microvascular</th>\n",
              "      <th>paciente_id</th>\n",
              "      <th>x0</th>\n",
              "      <th>y0</th>\n",
              "      <th>x1</th>\n",
              "      <th>y1</th>\n",
              "      <th>s0</th>\n",
              "      <th>s1</th>\n",
              "    </tr>\n",
              "  </thead>\n",
              "  <tbody>\n",
              "    <tr>\n",
              "      <th>0</th>\n",
              "      <td>N1</td>\n",
              "      <td>1.9</td>\n",
              "      <td>1</td>\n",
              "      <td>88</td>\n",
              "      <td>NaN</td>\n",
              "      <td>NaN</td>\n",
              "      <td>NaN</td>\n",
              "      <td>NaN</td>\n",
              "      <td>12.0</td>\n",
              "      <td>20.0</td>\n",
              "    </tr>\n",
              "    <tr>\n",
              "      <th>1</th>\n",
              "      <td>N2</td>\n",
              "      <td>3.5</td>\n",
              "      <td>1</td>\n",
              "      <td>88</td>\n",
              "      <td>NaN</td>\n",
              "      <td>NaN</td>\n",
              "      <td>NaN</td>\n",
              "      <td>NaN</td>\n",
              "      <td>30.0</td>\n",
              "      <td>40.0</td>\n",
              "    </tr>\n",
              "    <tr>\n",
              "      <th>2</th>\n",
              "      <td>N3</td>\n",
              "      <td>1.7</td>\n",
              "      <td>0</td>\n",
              "      <td>88</td>\n",
              "      <td>NaN</td>\n",
              "      <td>NaN</td>\n",
              "      <td>NaN</td>\n",
              "      <td>NaN</td>\n",
              "      <td>21.0</td>\n",
              "      <td>27.0</td>\n",
              "    </tr>\n",
              "    <tr>\n",
              "      <th>3</th>\n",
              "      <td>N4</td>\n",
              "      <td>2.1</td>\n",
              "      <td>1</td>\n",
              "      <td>6</td>\n",
              "      <td>NaN</td>\n",
              "      <td>NaN</td>\n",
              "      <td>NaN</td>\n",
              "      <td>NaN</td>\n",
              "      <td>3.0</td>\n",
              "      <td>8.0</td>\n",
              "    </tr>\n",
              "    <tr>\n",
              "      <th>4</th>\n",
              "      <td>N6</td>\n",
              "      <td>4.1</td>\n",
              "      <td>0</td>\n",
              "      <td>6</td>\n",
              "      <td>NaN</td>\n",
              "      <td>NaN</td>\n",
              "      <td>NaN</td>\n",
              "      <td>NaN</td>\n",
              "      <td>24.0</td>\n",
              "      <td>36.0</td>\n",
              "    </tr>\n",
              "  </tbody>\n",
              "</table>\n",
              "</div>"
            ],
            "text/plain": [
              "  num_nod  tam_nod_tc_cm  invasao_microvascular  ...  y1    s0    s1\n",
              "0      N1            1.9                      1  ... NaN  12.0  20.0\n",
              "1      N2            3.5                      1  ... NaN  30.0  40.0\n",
              "2      N3            1.7                      0  ... NaN  21.0  27.0\n",
              "3      N4            2.1                      1  ... NaN   3.0   8.0\n",
              "4      N6            4.1                      0  ... NaN  24.0  36.0\n",
              "\n",
              "[5 rows x 10 columns]"
            ]
          },
          "metadata": {
            "tags": []
          },
          "execution_count": 8
        }
      ]
    },
    {
      "cell_type": "code",
      "metadata": {
        "colab": {
          "base_uri": "https://localhost:8080/",
          "height": 359
        },
        "id": "vUtbAI9JVL54",
        "outputId": "2f062f9c-5b73-430f-ae83-65e87e3a1f39"
      },
      "source": [
        "nod_A.iloc[10:20] "
      ],
      "execution_count": null,
      "outputs": [
        {
          "output_type": "execute_result",
          "data": {
            "text/html": [
              "<div>\n",
              "<style scoped>\n",
              "    .dataframe tbody tr th:only-of-type {\n",
              "        vertical-align: middle;\n",
              "    }\n",
              "\n",
              "    .dataframe tbody tr th {\n",
              "        vertical-align: top;\n",
              "    }\n",
              "\n",
              "    .dataframe thead th {\n",
              "        text-align: right;\n",
              "    }\n",
              "</style>\n",
              "<table border=\"1\" class=\"dataframe\">\n",
              "  <thead>\n",
              "    <tr style=\"text-align: right;\">\n",
              "      <th></th>\n",
              "      <th>num_nod</th>\n",
              "      <th>tam_nod_tc_cm</th>\n",
              "      <th>invasao_microvascular</th>\n",
              "      <th>paciente_id</th>\n",
              "      <th>x0</th>\n",
              "      <th>y0</th>\n",
              "      <th>x1</th>\n",
              "      <th>y1</th>\n",
              "      <th>s0</th>\n",
              "      <th>s1</th>\n",
              "    </tr>\n",
              "  </thead>\n",
              "  <tbody>\n",
              "    <tr>\n",
              "      <th>10</th>\n",
              "      <td>N15</td>\n",
              "      <td>1.3</td>\n",
              "      <td>0</td>\n",
              "      <td>62</td>\n",
              "      <td>87.0</td>\n",
              "      <td>257.0</td>\n",
              "      <td>140.0</td>\n",
              "      <td>300.0</td>\n",
              "      <td>24.0</td>\n",
              "      <td>40.0</td>\n",
              "    </tr>\n",
              "    <tr>\n",
              "      <th>11</th>\n",
              "      <td>N16</td>\n",
              "      <td>3.2</td>\n",
              "      <td>0</td>\n",
              "      <td>33</td>\n",
              "      <td>111.0</td>\n",
              "      <td>181.0</td>\n",
              "      <td>166.0</td>\n",
              "      <td>235.0</td>\n",
              "      <td>8.0</td>\n",
              "      <td>30.0</td>\n",
              "    </tr>\n",
              "    <tr>\n",
              "      <th>12</th>\n",
              "      <td>N18</td>\n",
              "      <td>3.0</td>\n",
              "      <td>0</td>\n",
              "      <td>138</td>\n",
              "      <td>81.0</td>\n",
              "      <td>230.0</td>\n",
              "      <td>131.0</td>\n",
              "      <td>274.0</td>\n",
              "      <td>14.0</td>\n",
              "      <td>38.0</td>\n",
              "    </tr>\n",
              "    <tr>\n",
              "      <th>13</th>\n",
              "      <td>N19</td>\n",
              "      <td>1.1</td>\n",
              "      <td>0</td>\n",
              "      <td>108</td>\n",
              "      <td>111.0</td>\n",
              "      <td>193.0</td>\n",
              "      <td>153.0</td>\n",
              "      <td>230.0</td>\n",
              "      <td>7.0</td>\n",
              "      <td>28.0</td>\n",
              "    </tr>\n",
              "    <tr>\n",
              "      <th>14</th>\n",
              "      <td>N20</td>\n",
              "      <td>1.5</td>\n",
              "      <td>0</td>\n",
              "      <td>108</td>\n",
              "      <td>102.0</td>\n",
              "      <td>175.0</td>\n",
              "      <td>154.0</td>\n",
              "      <td>241.0</td>\n",
              "      <td>11.0</td>\n",
              "      <td>28.0</td>\n",
              "    </tr>\n",
              "    <tr>\n",
              "      <th>15</th>\n",
              "      <td>N21</td>\n",
              "      <td>1.3</td>\n",
              "      <td>1</td>\n",
              "      <td>108</td>\n",
              "      <td>123.0</td>\n",
              "      <td>260.0</td>\n",
              "      <td>169.0</td>\n",
              "      <td>294.0</td>\n",
              "      <td>16.0</td>\n",
              "      <td>35.0</td>\n",
              "    </tr>\n",
              "    <tr>\n",
              "      <th>16</th>\n",
              "      <td>N22</td>\n",
              "      <td>2.6</td>\n",
              "      <td>0</td>\n",
              "      <td>144</td>\n",
              "      <td>115.0</td>\n",
              "      <td>209.0</td>\n",
              "      <td>167.0</td>\n",
              "      <td>253.0</td>\n",
              "      <td>6.0</td>\n",
              "      <td>16.0</td>\n",
              "    </tr>\n",
              "    <tr>\n",
              "      <th>17</th>\n",
              "      <td>N23</td>\n",
              "      <td>3.5</td>\n",
              "      <td>0</td>\n",
              "      <td>143</td>\n",
              "      <td>181.0</td>\n",
              "      <td>240.0</td>\n",
              "      <td>234.0</td>\n",
              "      <td>285.0</td>\n",
              "      <td>14.0</td>\n",
              "      <td>26.0</td>\n",
              "    </tr>\n",
              "    <tr>\n",
              "      <th>18</th>\n",
              "      <td>N24</td>\n",
              "      <td>3.1</td>\n",
              "      <td>0</td>\n",
              "      <td>66</td>\n",
              "      <td>142.0</td>\n",
              "      <td>263.0</td>\n",
              "      <td>190.0</td>\n",
              "      <td>293.0</td>\n",
              "      <td>10.0</td>\n",
              "      <td>17.0</td>\n",
              "    </tr>\n",
              "    <tr>\n",
              "      <th>19</th>\n",
              "      <td>N25</td>\n",
              "      <td>4.7</td>\n",
              "      <td>0</td>\n",
              "      <td>25</td>\n",
              "      <td>167.0</td>\n",
              "      <td>136.0</td>\n",
              "      <td>239.0</td>\n",
              "      <td>184.0</td>\n",
              "      <td>42.0</td>\n",
              "      <td>63.0</td>\n",
              "    </tr>\n",
              "  </tbody>\n",
              "</table>\n",
              "</div>"
            ],
            "text/plain": [
              "   num_nod  tam_nod_tc_cm  invasao_microvascular  ...     y1    s0    s1\n",
              "10     N15            1.3                      0  ...  300.0  24.0  40.0\n",
              "11     N16            3.2                      0  ...  235.0   8.0  30.0\n",
              "12     N18            3.0                      0  ...  274.0  14.0  38.0\n",
              "13     N19            1.1                      0  ...  230.0   7.0  28.0\n",
              "14     N20            1.5                      0  ...  241.0  11.0  28.0\n",
              "15     N21            1.3                      1  ...  294.0  16.0  35.0\n",
              "16     N22            2.6                      0  ...  253.0   6.0  16.0\n",
              "17     N23            3.5                      0  ...  285.0  14.0  26.0\n",
              "18     N24            3.1                      0  ...  293.0  10.0  17.0\n",
              "19     N25            4.7                      0  ...  184.0  42.0  63.0\n",
              "\n",
              "[10 rows x 10 columns]"
            ]
          },
          "metadata": {
            "tags": []
          },
          "execution_count": 10
        }
      ]
    },
    {
      "cell_type": "markdown",
      "metadata": {
        "id": "uPK0ey5SLVaj"
      },
      "source": [
        "## 2) Encontrar as imagens correspondentes para cada ROI\n",
        "\n",
        "Uma vez que sabemos as regiões, devemos associar elas para as imagens que devem ser recortadas."
      ]
    },
    {
      "cell_type": "code",
      "metadata": {
        "colab": {
          "base_uri": "https://localhost:8080/"
        },
        "id": "lIw6ThZLR37V",
        "outputId": "efb8c17d-b2ca-41a9-de8c-e6c8d9408633"
      },
      "source": [
        "# Verificar se todas as fases possuem o mesmo número de nódulos\n",
        "if (len(nod_A) == len(nod_B) == len(nod_C)):\n",
        "  print('Número de nódulos:', len(nod_A))\n",
        "else:\n",
        "  print('Aviso: o número de nódulos está diferente para cada fase!')\n",
        "  print('Número de nódulos: \\n\\tFase A:', len(nod_A))\n",
        "  print('\\tFase B:', len(nod_B))\n",
        "  print('\\tFase C:', len(nod_C))"
      ],
      "execution_count": null,
      "outputs": [
        {
          "output_type": "stream",
          "text": [
            "Número de nódulos: 200\n"
          ],
          "name": "stdout"
        }
      ]
    },
    {
      "cell_type": "code",
      "metadata": {
        "colab": {
          "base_uri": "https://localhost:8080/"
        },
        "id": "q5i9bKvcR_FJ",
        "outputId": "ad2e777b-a0e7-4054-e6cf-a490bcfa9699"
      },
      "source": [
        "# para cada nódulo, verificar se as informações necessárias estão presentes\n",
        "\n",
        "print('Fase A - Arterial')\n",
        "nod_list_A = []\n",
        "empty_list_A = []\n",
        "nan_cnt = 0\n",
        "for idx in range(len(nod_A)):\n",
        "  nod = nod_A.iloc[idx]\n",
        "  try:\n",
        "    x0 = int(nod['x0'])\n",
        "    y0 = int(nod['y0'])\n",
        "    x1 = int(nod['x1'])\n",
        "    y1 = int(nod['y1'])\n",
        "    s0 = int(nod['s0'])\n",
        "    s1 = int(nod['s1'])\n",
        "    paciente_id = int(nod['paciente_id'])\n",
        "    invasao_microvascular = bool(nod['invasao_microvascular'])\n",
        "    num_nod = nod['num_nod']\n",
        "    nod_dict = {\n",
        "        'paciente_id': paciente_id,\n",
        "        'invasao_microvascular': invasao_microvascular,\n",
        "        'num_nod':num_nod,\n",
        "        'x0':x0,\n",
        "        'y0':y0,\n",
        "        'x1':x1,\n",
        "        'y1':y1,\n",
        "        's0':s0,\n",
        "        's1':s1,\n",
        "    }\n",
        "    nod_list_A.append(nod_dict)\n",
        "  except ValueError:\n",
        "    nan_cnt += 1\n",
        "    empty_list_A.append(idx)\n",
        "\n",
        "print('')\n",
        "if nan_cnt > 0:\n",
        "  print(f\"Aviso: Número de nódulos vazios: {nan_cnt}\")\n"
      ],
      "execution_count": null,
      "outputs": [
        {
          "output_type": "stream",
          "text": [
            "Fase A - Arterial\n",
            "\n",
            "Aviso: Número de nódulos vazios: 178\n"
          ],
          "name": "stdout"
        }
      ]
    },
    {
      "cell_type": "code",
      "metadata": {
        "colab": {
          "base_uri": "https://localhost:8080/"
        },
        "id": "ncwrTCSHmRdo",
        "outputId": "2f2ed35c-12e8-4522-aafb-9f4f93a5f96d"
      },
      "source": [
        "print('\\nAbordagem 1: empty list')\n",
        "for idx in range(len(nod_A)):\n",
        "  if idx not in empty_list_A:\n",
        "    print(f\"{idx}\\t{nod_A.iloc[idx]['num_nod']}\"\n",
        "        + f\"\\tslices:{nod_A.iloc[idx]['s0']}-{nod_A.iloc[idx]['s1']}\"\n",
        "        + f\"\\tpx-init:({nod_A.iloc[idx]['x0']},{nod_A.iloc[idx]['y0']})\"\n",
        "        + f\"\\tpx-final:({nod_A.iloc[idx]['x1']},{nod_A.iloc[idx]['y1']})\")"
      ],
      "execution_count": null,
      "outputs": [
        {
          "output_type": "stream",
          "text": [
            "\n",
            "Abordagem 1: empty list\n",
            "8\tN11\tslices:16.0-29.0\tpx-init:(183.0,138.0)\tpx-final:(238.0,180.0)\n",
            "9\tN12\tslices:8.0-31.0\tpx-init:(71.0,238.0)\tpx-final:(105.0,280.0)\n",
            "10\tN15\tslices:24.0-40.0\tpx-init:(87.0,257.0)\tpx-final:(140.0,300.0)\n",
            "11\tN16\tslices:8.0-30.0\tpx-init:(111.0,181.0)\tpx-final:(166.0,235.0)\n",
            "12\tN18\tslices:14.0-38.0\tpx-init:(81.0,230.0)\tpx-final:(131.0,274.0)\n",
            "13\tN19\tslices:7.0-28.0\tpx-init:(111.0,193.0)\tpx-final:(153.0,230.0)\n",
            "14\tN20\tslices:11.0-28.0\tpx-init:(102.0,175.0)\tpx-final:(154.0,241.0)\n",
            "15\tN21\tslices:16.0-35.0\tpx-init:(123.0,260.0)\tpx-final:(169.0,294.0)\n",
            "16\tN22\tslices:6.0-16.0\tpx-init:(115.0,209.0)\tpx-final:(167.0,253.0)\n",
            "17\tN23\tslices:14.0-26.0\tpx-init:(181.0,240.0)\tpx-final:(234.0,285.0)\n",
            "18\tN24\tslices:10.0-17.0\tpx-init:(142.0,263.0)\tpx-final:(190.0,293.0)\n",
            "19\tN25\tslices:42.0-63.0\tpx-init:(167.0,136.0)\tpx-final:(239.0,184.0)\n",
            "20\tN26\tslices:6.0-19.0\tpx-init:(173.0,139.0)\tpx-final:(219.0,169.0)\n",
            "21\tN27\tslices:11.0-38.0\tpx-init:(75.0,167.0)\tpx-final:(170.0,240.0)\n",
            "22\tN28\tslices:32.0-37.0\tpx-init:(79.0,309.0)\tpx-final:(116.0,340.0)\n",
            "23\tN29\tslices:43.0-53.0\tpx-init:(147.0,222.0)\tpx-final:(177.0,242.0)\n",
            "24\tN30\tslices:18.0-35.0\tpx-init:(185.0,159.0)\tpx-final:(239.0,215.0)\n",
            "25\tN31\tslices:32.0-40.0\tpx-init:(155.0,295.0)\tpx-final:(187.0,321.0)\n",
            "26\tN32\tslices:47.0-57.0\tpx-init:(70.0,242.0)\tpx-final:(100.0,167.0)\n",
            "27\tN33\tslices:22.0-32.0\tpx-init:(225.0,116.0)\tpx-final:(266.0,152.0)\n",
            "28\tN34\tslices:29.0-38.0\tpx-init:(92.0,247.0)\tpx-final:(121.0,279.0)\n",
            "29\tN35\tslices:29.0-40.0\tpx-init:(100.0,279.0)\tpx-final:(137.0,292.0)\n"
          ],
          "name": "stdout"
        }
      ]
    },
    {
      "cell_type": "markdown",
      "metadata": {
        "id": "3xgb_mB7pNK0"
      },
      "source": [
        ""
      ]
    },
    {
      "cell_type": "code",
      "metadata": {
        "colab": {
          "base_uri": "https://localhost:8080/"
        },
        "id": "khiCEyHcmU7Z",
        "outputId": "ad9510f3-78b9-43e7-eebd-b83a1fbc6970"
      },
      "source": [
        "print('\\nAbordagem 2: criar um novo dicionário, apenas com os dados preenchidos')\n",
        "for idx in range(len(nod_list_A)):\n",
        "  print(f\"{idx}\\t{nod_list_A[idx]['num_nod']}\"\n",
        "        + f\"\\t{nod_list_A[idx]['paciente_id']}\"\n",
        "        + f\"\\tslices:{nod_list_A[idx]['s0']}-{nod_list_A[idx]['s1']}\"\n",
        "        + f\"\\tpx-init:({nod_list_A[idx]['x0']},{nod_list_A[idx]['y0']})\"\n",
        "        + f\"\\tpx-final:({nod_list_A[idx]['x1']},{nod_list_A[idx]['y1']})\")"
      ],
      "execution_count": null,
      "outputs": [
        {
          "output_type": "stream",
          "text": [
            "\n",
            "Abordagem 2: criar um novo dicionário, apenas com os dados preenchidos\n",
            "0\tN11\t116\tslices:16-29\tpx-init:(183,138)\tpx-final:(238,180)\n",
            "1\tN12\t124\tslices:8-31\tpx-init:(71,238)\tpx-final:(105,280)\n",
            "2\tN15\t62\tslices:24-40\tpx-init:(87,257)\tpx-final:(140,300)\n",
            "3\tN16\t33\tslices:8-30\tpx-init:(111,181)\tpx-final:(166,235)\n",
            "4\tN18\t138\tslices:14-38\tpx-init:(81,230)\tpx-final:(131,274)\n",
            "5\tN19\t108\tslices:7-28\tpx-init:(111,193)\tpx-final:(153,230)\n",
            "6\tN20\t108\tslices:11-28\tpx-init:(102,175)\tpx-final:(154,241)\n",
            "7\tN21\t108\tslices:16-35\tpx-init:(123,260)\tpx-final:(169,294)\n",
            "8\tN22\t144\tslices:6-16\tpx-init:(115,209)\tpx-final:(167,253)\n",
            "9\tN23\t143\tslices:14-26\tpx-init:(181,240)\tpx-final:(234,285)\n",
            "10\tN24\t66\tslices:10-17\tpx-init:(142,263)\tpx-final:(190,293)\n",
            "11\tN25\t25\tslices:42-63\tpx-init:(167,136)\tpx-final:(239,184)\n",
            "12\tN26\t52\tslices:6-19\tpx-init:(173,139)\tpx-final:(219,169)\n",
            "13\tN27\t126\tslices:11-38\tpx-init:(75,167)\tpx-final:(170,240)\n",
            "14\tN28\t126\tslices:32-37\tpx-init:(79,309)\tpx-final:(116,340)\n",
            "15\tN29\t26\tslices:43-53\tpx-init:(147,222)\tpx-final:(177,242)\n",
            "16\tN30\t140\tslices:18-35\tpx-init:(185,159)\tpx-final:(239,215)\n",
            "17\tN31\t49\tslices:32-40\tpx-init:(155,295)\tpx-final:(187,321)\n",
            "18\tN32\t49\tslices:47-57\tpx-init:(70,242)\tpx-final:(100,167)\n",
            "19\tN33\t36\tslices:22-32\tpx-init:(225,116)\tpx-final:(266,152)\n",
            "20\tN34\t36\tslices:29-38\tpx-init:(92,247)\tpx-final:(121,279)\n",
            "21\tN35\t36\tslices:29-40\tpx-init:(100,279)\tpx-final:(137,292)\n"
          ],
          "name": "stdout"
        }
      ]
    },
    {
      "cell_type": "code",
      "metadata": {
        "colab": {
          "base_uri": "https://localhost:8080/"
        },
        "id": "JsByc4UXdM_1",
        "outputId": "9a369a41-4a11-4c02-fbf7-3c74e1c407d2"
      },
      "source": [
        "print('Fase B - Portal')"
      ],
      "execution_count": null,
      "outputs": [
        {
          "output_type": "stream",
          "text": [
            "Fase B - Portal\n"
          ],
          "name": "stdout"
        }
      ]
    },
    {
      "cell_type": "code",
      "metadata": {
        "colab": {
          "base_uri": "https://localhost:8080/"
        },
        "id": "Zy1zHWgHdNju",
        "outputId": "865ebdd5-3f6d-481c-f1d6-19f1a7e20fad"
      },
      "source": [
        "print('Fase C - Equilibrio / Excretor')"
      ],
      "execution_count": null,
      "outputs": [
        {
          "output_type": "stream",
          "text": [
            "Fase C - Equilibrio / Excretor\n"
          ],
          "name": "stdout"
        }
      ]
    },
    {
      "cell_type": "markdown",
      "metadata": {
        "id": "MkrL8I_eLsyI"
      },
      "source": [
        "## 3) Recortar as imagens\n",
        "\n",
        "*   Abrir as imagens em DICOM\n",
        "*   Converter para NUMPY\n",
        "*   Recortar as matrizes\n",
        "\n"
      ]
    },
    {
      "cell_type": "code",
      "metadata": {
        "id": "YC9o5bIin-YR"
      },
      "source": [
        "data_img = 'gdrive/Shareddrives/MO286 - Visualização de Dados/data_images/CASOS_CHC_DICOM/'"
      ],
      "execution_count": null,
      "outputs": []
    },
    {
      "cell_type": "code",
      "metadata": {
        "colab": {
          "base_uri": "https://localhost:8080/"
        },
        "id": "84hI-1w9mc7Z",
        "outputId": "12effcca-39a5-46a5-fa05-891afb057801"
      },
      "source": [
        "# associar as regiões com as imagens a serem cortadas (em progresso)\n",
        "print('Fase A - Arterial')\n",
        "\n",
        "stat_sli = []\n",
        "stat_area = []\n",
        "\n",
        "#data_imgs_A = glob(data_img + '*/A/')\n",
        "#print(data_imgs_A)\n",
        "\n",
        "for idx in range(len(nod_list_A)):\n",
        "  # find images\n",
        "  data_img_A = (data_img + str(nod_list_A[idx]['paciente_id']) + '/A/')\n",
        "  print(f\"{nod_list_A[idx]['num_nod']} directory: {data_img_A}\")\n",
        "  # select slices\n",
        "  slices = []\n",
        "  for root, dirs, files in os.walk(data_img_A):\n",
        "    for f in files:\n",
        "      num = int( f.replace('imagem','').replace('.dcm','') )\n",
        "      if nod_list_A[idx]['s0'] < num < nod_list_A[idx]['s1']:\n",
        "        slices.append(f)\n",
        "  print(\"Slices list:\", slices)\n",
        "  num_sli = len(slices)\n",
        "  print(f\"Number of slices: {num_sli}\")\n",
        "  # select region of interest\n",
        "  crop_px = (nod_list_A[idx]['y0'], # first line\n",
        "             nod_list_A[idx]['y1'], # last line\n",
        "             nod_list_A[idx]['x0'], # first column\n",
        "             nod_list_A[idx]['x1']  # last column\n",
        "             )\n",
        "  area = (crop_px[1]-crop_px[0])*(crop_px[3]-crop_px[2])\n",
        "  print(f\"Region of interest: {crop_px} -> Total area={area}-px\")\n",
        "  # statistics\n",
        "  stat_sli.append(num_sli)\n",
        "  stat_area.append(area)\n",
        "  print(\"\")\n",
        "\n",
        "  # TODO: crop images ==================\n",
        "  # crop_list_A = glob(data_img_A + '*')\n"
      ],
      "execution_count": null,
      "outputs": [
        {
          "output_type": "stream",
          "text": [
            "Fase A - Arterial\n",
            "N11 directory: gdrive/Shareddrives/MO286 - Visualização de Dados/data_images/CASOS_CHC_DICOM/116/A/\n",
            "Slices list: ['imagem19.dcm', 'imagem26.dcm', 'imagem20.dcm', 'imagem23.dcm', 'imagem24.dcm', 'imagem27.dcm', 'imagem28.dcm', 'imagem25.dcm', 'imagem18.dcm', 'imagem17.dcm', 'imagem22.dcm', 'imagem21.dcm']\n",
            "Number of slices: 12\n",
            "Region of interest: (138, 180, 183, 238) -> Total area=2310-px\n",
            "\n",
            "N12 directory: gdrive/Shareddrives/MO286 - Visualização de Dados/data_images/CASOS_CHC_DICOM/124/A/\n",
            "Slices list: ['imagem12.dcm', 'imagem10.dcm', 'imagem11.dcm', 'imagem9.dcm', 'imagem26.dcm', 'imagem30.dcm', 'imagem24.dcm', 'imagem29.dcm', 'imagem13.dcm', 'imagem18.dcm', 'imagem20.dcm', 'imagem25.dcm', 'imagem16.dcm', 'imagem19.dcm', 'imagem15.dcm', 'imagem14.dcm', 'imagem22.dcm', 'imagem27.dcm', 'imagem21.dcm', 'imagem23.dcm', 'imagem17.dcm', 'imagem28.dcm']\n",
            "Number of slices: 22\n",
            "Region of interest: (238, 280, 71, 105) -> Total area=1428-px\n",
            "\n",
            "N15 directory: gdrive/Shareddrives/MO286 - Visualização de Dados/data_images/CASOS_CHC_DICOM/62/A/\n",
            "Slices list: ['imagem36.dcm', 'imagem32.dcm', 'imagem39.dcm', 'imagem34.dcm', 'imagem28.dcm', 'imagem38.dcm', 'imagem25.dcm', 'imagem31.dcm', 'imagem30.dcm', 'imagem33.dcm', 'imagem29.dcm', 'imagem37.dcm', 'imagem26.dcm', 'imagem27.dcm', 'imagem35.dcm']\n",
            "Number of slices: 15\n",
            "Region of interest: (257, 300, 87, 140) -> Total area=2279-px\n",
            "\n",
            "N16 directory: gdrive/Shareddrives/MO286 - Visualização de Dados/data_images/CASOS_CHC_DICOM/33/A/\n",
            "Slices list: ['imagem11.dcm', 'imagem17.dcm', 'imagem22.dcm', 'imagem12.dcm', 'imagem24.dcm', 'imagem19.dcm', 'imagem25.dcm', 'imagem21.dcm', 'imagem27.dcm', 'imagem15.dcm', 'imagem26.dcm', 'imagem18.dcm', 'imagem20.dcm', 'imagem16.dcm', 'imagem13.dcm', 'imagem10.dcm', 'imagem23.dcm', 'imagem14.dcm', 'imagem29.dcm', 'imagem28.dcm']\n",
            "Number of slices: 20\n",
            "Region of interest: (181, 235, 111, 166) -> Total area=2970-px\n",
            "\n",
            "N18 directory: gdrive/Shareddrives/MO286 - Visualização de Dados/data_images/CASOS_CHC_DICOM/138/A/\n",
            "Slices list: ['imagem16.dcm', 'imagem15.dcm', 'imagem17.dcm', 'imagem29.dcm', 'imagem36.dcm', 'imagem33.dcm', 'imagem20.dcm', 'imagem27.dcm', 'imagem30.dcm', 'imagem35.dcm', 'imagem23.dcm', 'imagem22.dcm', 'imagem37.dcm', 'imagem18.dcm', 'imagem25.dcm', 'imagem21.dcm', 'imagem24.dcm', 'imagem34.dcm', 'imagem32.dcm', 'imagem19.dcm', 'imagem28.dcm', 'imagem26.dcm', 'imagem31.dcm']\n",
            "Number of slices: 23\n",
            "Region of interest: (230, 274, 81, 131) -> Total area=2200-px\n",
            "\n",
            "N19 directory: gdrive/Shareddrives/MO286 - Visualização de Dados/data_images/CASOS_CHC_DICOM/108/A/\n",
            "Slices list: ['imagem15.dcm', 'imagem13.dcm', 'imagem16.dcm', 'imagem12.dcm', 'imagem11.dcm', 'imagem14.dcm', 'imagem18.dcm', 'imagem27.dcm', 'imagem22.dcm', 'imagem24.dcm', 'imagem25.dcm', 'imagem19.dcm', 'imagem23.dcm', 'imagem20.dcm', 'imagem21.dcm', 'imagem26.dcm', 'imagem17.dcm']\n",
            "Number of slices: 17\n",
            "Region of interest: (193, 230, 111, 153) -> Total area=1554-px\n",
            "\n",
            "N20 directory: gdrive/Shareddrives/MO286 - Visualização de Dados/data_images/CASOS_CHC_DICOM/108/A/\n",
            "Slices list: ['imagem15.dcm', 'imagem13.dcm', 'imagem16.dcm', 'imagem12.dcm', 'imagem14.dcm', 'imagem18.dcm', 'imagem27.dcm', 'imagem22.dcm', 'imagem24.dcm', 'imagem25.dcm', 'imagem19.dcm', 'imagem23.dcm', 'imagem20.dcm', 'imagem21.dcm', 'imagem26.dcm', 'imagem17.dcm']\n",
            "Number of slices: 16\n",
            "Region of interest: (175, 241, 102, 154) -> Total area=3432-px\n",
            "\n",
            "N21 directory: gdrive/Shareddrives/MO286 - Visualização de Dados/data_images/CASOS_CHC_DICOM/108/A/\n",
            "Slices list: ['imagem18.dcm', 'imagem27.dcm', 'imagem33.dcm', 'imagem22.dcm', 'imagem34.dcm', 'imagem24.dcm', 'imagem30.dcm', 'imagem28.dcm', 'imagem25.dcm', 'imagem19.dcm', 'imagem31.dcm', 'imagem23.dcm', 'imagem29.dcm', 'imagem20.dcm', 'imagem21.dcm', 'imagem32.dcm', 'imagem26.dcm', 'imagem17.dcm']\n",
            "Number of slices: 18\n",
            "Region of interest: (260, 294, 123, 169) -> Total area=1564-px\n",
            "\n",
            "N22 directory: gdrive/Shareddrives/MO286 - Visualização de Dados/data_images/CASOS_CHC_DICOM/144/A/\n",
            "Slices list: ['imagem15.dcm', 'imagem14.dcm', 'imagem8.dcm', 'imagem10.dcm', 'imagem11.dcm', 'imagem9.dcm', 'imagem13.dcm', 'imagem12.dcm', 'imagem7.dcm']\n",
            "Number of slices: 9\n",
            "Region of interest: (209, 253, 115, 167) -> Total area=2288-px\n",
            "\n",
            "N23 directory: gdrive/Shareddrives/MO286 - Visualização de Dados/data_images/CASOS_CHC_DICOM/143/A/\n",
            "Slices list: ['imagem18.dcm', 'imagem17.dcm', 'imagem25.dcm', 'imagem15.dcm', 'imagem16.dcm', 'imagem20.dcm', 'imagem19.dcm', 'imagem22.dcm', 'imagem21.dcm', 'imagem24.dcm', 'imagem23.dcm']\n",
            "Number of slices: 11\n",
            "Region of interest: (240, 285, 181, 234) -> Total area=2385-px\n",
            "\n",
            "N24 directory: gdrive/Shareddrives/MO286 - Visualização de Dados/data_images/CASOS_CHC_DICOM/66/A/\n",
            "Slices list: ['imagem11.dcm', 'imagem12.dcm', 'imagem15.dcm', 'imagem13.dcm', 'imagem16.dcm', 'imagem14.dcm']\n",
            "Number of slices: 6\n",
            "Region of interest: (263, 293, 142, 190) -> Total area=1440-px\n",
            "\n",
            "N25 directory: gdrive/Shareddrives/MO286 - Visualização de Dados/data_images/CASOS_CHC_DICOM/25/A/\n",
            "Slices list: ['imagem53.dcm', 'imagem62.dcm', 'imagem58.dcm', 'imagem44.dcm', 'imagem48.dcm', 'imagem59.dcm', 'imagem54.dcm', 'imagem50.dcm', 'imagem45.dcm', 'imagem56.dcm', 'imagem47.dcm', 'imagem60.dcm', 'imagem43.dcm', 'imagem51.dcm', 'imagem61.dcm', 'imagem57.dcm', 'imagem49.dcm', 'imagem46.dcm', 'imagem52.dcm', 'imagem55.dcm']\n",
            "Number of slices: 20\n",
            "Region of interest: (136, 184, 167, 239) -> Total area=3456-px\n",
            "\n",
            "N26 directory: gdrive/Shareddrives/MO286 - Visualização de Dados/data_images/CASOS_CHC_DICOM/52/A/\n",
            "Slices list: ['imagem9.dcm', 'imagem17.dcm', 'imagem18.dcm', 'imagem10.dcm', 'imagem14.dcm', 'imagem8.dcm', 'imagem16.dcm', 'imagem12.dcm', 'imagem7.dcm', 'imagem13.dcm', 'imagem11.dcm', 'imagem15.dcm']\n",
            "Number of slices: 12\n",
            "Region of interest: (139, 169, 173, 219) -> Total area=1380-px\n",
            "\n",
            "N27 directory: gdrive/Shareddrives/MO286 - Visualização de Dados/data_images/CASOS_CHC_DICOM/126/A/\n",
            "Slices list: ['imagem22.dcm', 'imagem20.dcm', 'imagem15.dcm', 'imagem17.dcm', 'imagem16.dcm', 'imagem25.dcm', 'imagem19.dcm', 'imagem12.dcm', 'imagem23.dcm', 'imagem13.dcm', 'imagem21.dcm', 'imagem24.dcm', 'imagem14.dcm', 'imagem18.dcm', 'imagem34.dcm', 'imagem33.dcm', 'imagem32.dcm', 'imagem28.dcm', 'imagem30.dcm', 'imagem27.dcm', 'imagem37.dcm', 'imagem36.dcm', 'imagem29.dcm', 'imagem26.dcm', 'imagem31.dcm', 'imagem35.dcm']\n",
            "Number of slices: 26\n",
            "Region of interest: (167, 240, 75, 170) -> Total area=6935-px\n",
            "\n",
            "N28 directory: gdrive/Shareddrives/MO286 - Visualização de Dados/data_images/CASOS_CHC_DICOM/126/A/\n",
            "Slices list: ['imagem34.dcm', 'imagem33.dcm', 'imagem36.dcm', 'imagem35.dcm']\n",
            "Number of slices: 4\n",
            "Region of interest: (309, 340, 79, 116) -> Total area=1147-px\n",
            "\n",
            "N29 directory: gdrive/Shareddrives/MO286 - Visualização de Dados/data_images/CASOS_CHC_DICOM/26/A/\n",
            "Slices list: ['imagem47.dcm', 'imagem46.dcm', 'imagem44.dcm', 'imagem45.dcm', 'imagem52.dcm', 'imagem51.dcm', 'imagem49.dcm', 'imagem48.dcm', 'imagem50.dcm']\n",
            "Number of slices: 9\n",
            "Region of interest: (222, 242, 147, 177) -> Total area=600-px\n",
            "\n",
            "N30 directory: gdrive/Shareddrives/MO286 - Visualização de Dados/data_images/CASOS_CHC_DICOM/140/A/\n",
            "Slices list: ['imagem21.dcm', 'imagem20.dcm', 'imagem23.dcm', 'imagem22.dcm', 'imagem24.dcm', 'imagem19.dcm', 'imagem26.dcm', 'imagem31.dcm', 'imagem33.dcm', 'imagem28.dcm', 'imagem29.dcm', 'imagem34.dcm', 'imagem30.dcm', 'imagem27.dcm', 'imagem32.dcm', 'imagem25.dcm']\n",
            "Number of slices: 16\n",
            "Region of interest: (159, 215, 185, 239) -> Total area=3024-px\n",
            "\n",
            "N31 directory: gdrive/Shareddrives/MO286 - Visualização de Dados/data_images/CASOS_CHC_DICOM/49/A/\n",
            "Slices list: ['imagem38.dcm', 'imagem34.dcm', 'imagem35.dcm', 'imagem37.dcm', 'imagem36.dcm', 'imagem33.dcm', 'imagem39.dcm']\n",
            "Number of slices: 7\n",
            "Region of interest: (295, 321, 155, 187) -> Total area=832-px\n",
            "\n",
            "N32 directory: gdrive/Shareddrives/MO286 - Visualização de Dados/data_images/CASOS_CHC_DICOM/49/A/\n",
            "Slices list: ['imagem53.dcm', 'imagem55.dcm', 'imagem52.dcm', 'imagem50.dcm', 'imagem49.dcm', 'imagem48.dcm', 'imagem56.dcm', 'imagem51.dcm', 'imagem54.dcm']\n",
            "Number of slices: 9\n",
            "Region of interest: (242, 167, 70, 100) -> Total area=-2250-px\n",
            "\n",
            "N33 directory: gdrive/Shareddrives/MO286 - Visualização de Dados/data_images/CASOS_CHC_DICOM/36/A/\n",
            "Slices list: ['imagem29.dcm', 'imagem31.dcm', 'imagem28.dcm', 'imagem27.dcm', 'imagem24.dcm', 'imagem26.dcm', 'imagem23.dcm', 'imagem25.dcm', 'imagem30.dcm']\n",
            "Number of slices: 9\n",
            "Region of interest: (116, 152, 225, 266) -> Total area=1476-px\n",
            "\n",
            "N34 directory: gdrive/Shareddrives/MO286 - Visualização de Dados/data_images/CASOS_CHC_DICOM/36/A/\n",
            "Slices list: ['imagem31.dcm', 'imagem32.dcm', 'imagem30.dcm', 'imagem33.dcm', 'imagem37.dcm', 'imagem34.dcm', 'imagem36.dcm', 'imagem35.dcm']\n",
            "Number of slices: 8\n",
            "Region of interest: (247, 279, 92, 121) -> Total area=928-px\n",
            "\n",
            "N35 directory: gdrive/Shareddrives/MO286 - Visualização de Dados/data_images/CASOS_CHC_DICOM/36/A/\n",
            "Slices list: ['imagem31.dcm', 'imagem32.dcm', 'imagem30.dcm', 'imagem33.dcm', 'imagem37.dcm', 'imagem34.dcm', 'imagem38.dcm', 'imagem36.dcm', 'imagem39.dcm', 'imagem35.dcm']\n",
            "Number of slices: 10\n",
            "Region of interest: (279, 292, 100, 137) -> Total area=481-px\n",
            "\n"
          ],
          "name": "stdout"
        }
      ]
    },
    {
      "cell_type": "code",
      "metadata": {
        "colab": {
          "base_uri": "https://localhost:8080/"
        },
        "id": "3sjDKltR0pBy",
        "outputId": "aead666e-d2d0-4ded-ed3a-672e92ed3433"
      },
      "source": [
        "print(f\"Minimum slices = {min(stat_sli)}\")\n",
        "print(f\"Maximum slices = {max(stat_sli)}\")\n",
        "print(f\"Average slices = {sum(stat_sli)//len(stat_sli)}\")\n",
        "print(\"\")\n",
        "print(f\"Minimum area = {min(stat_area)}\")\n",
        "print(f\"Maximum area = {max(stat_area)}\")\n",
        "print(f\"Average area = {sum(stat_area)//len(stat_area)}\")"
      ],
      "execution_count": null,
      "outputs": [
        {
          "output_type": "stream",
          "text": [
            "Minimum slices = 4\n",
            "Maximum slices = 26\n",
            "Average slices = 13\n",
            "\n",
            "Minimum area = -2250\n",
            "Maximum area = 6935\n",
            "Average area = 1902\n"
          ],
          "name": "stdout"
        }
      ]
    },
    {
      "cell_type": "code",
      "metadata": {
        "colab": {
          "base_uri": "https://localhost:8080/"
        },
        "id": "3bpfZnJGp7-z",
        "outputId": "0dbd85a4-6f93-4554-c3ed-02b83253cf28"
      },
      "source": [
        "nod_list_A[idx]"
      ],
      "execution_count": null,
      "outputs": [
        {
          "output_type": "execute_result",
          "data": {
            "text/plain": [
              "{'invasao_microvascular': False,\n",
              " 'num_nod': 'N35',\n",
              " 'paciente_id': 36,\n",
              " 's0': 29,\n",
              " 's1': 40,\n",
              " 'x0': 100,\n",
              " 'x1': 137,\n",
              " 'y0': 279,\n",
              " 'y1': 292}"
            ]
          },
          "metadata": {
            "tags": []
          },
          "execution_count": 31
        }
      ]
    },
    {
      "cell_type": "markdown",
      "metadata": {
        "id": "zeY4ILN0l6Qg"
      },
      "source": [
        "#### TESTES Cortando as Matrizes"
      ]
    },
    {
      "cell_type": "code",
      "metadata": {
        "id": "erJnpr09kiQj"
      },
      "source": [
        "def crop_img(xinterval, yinterval, sliceinterval, pacient_id):\n",
        "  #print('paciente_id', pacient_id, 'Intervalo eixo X: ',xinterval,'Intervalo eixo Y: ', yinterval, 'Intervalo slices: ', sliceinterval )\n",
        "  #print(type(sliceinterval))\n",
        "  #print(data_img, pacient_id)\n",
        "  path_img = data_img + str(pacient_id) + '/A/' \n",
        "  data_img_A = glob(path_img)\n",
        "\n",
        "  #print(data_img_A)\n",
        "  \n",
        "  for sli in data_img_A:\n",
        "    print(sli)\n",
        "    #dicom = pydicom.dcmread(sli + 'imagem8.dcm')\n",
        "    #list_slices(sli, data_img_A)\n",
        "    list_slices(sli, path_img)\n",
        "    \n",
        "\n",
        "def list_slices(sliceinterval, imgpath):\n",
        "  img_slice_list = list(range(1, 300))\n",
        "  dots = sliceinterval.find(':')\n",
        "  begin_slice = int(sliceinterval[0:dots])\n",
        "  end_slice = int(sliceinterval[dots+1:len(sliceinterval)])\n",
        "  select_slice_list = img_slice_list[begin_slice:end_slice]\n",
        "  print(imgpath, sliceinterval, begin_slice, end_slice)\n",
        "  print(select_slice_list)\n",
        "  print(img_slice_list[begin_slice:end_slice])\n",
        "  while begin_slice < end_slice:\n",
        "    print(begin_slice)\n",
        "    begin_slice += 1\n",
        "\n",
        "\n"
      ],
      "execution_count": null,
      "outputs": []
    },
    {
      "cell_type": "code",
      "metadata": {
        "id": "KlToUpDl9rIj"
      },
      "source": [
        "dicom = pydicom.dcmread('gdrive/Shareddrives/MO286 - Visualização de Dados/data_images/CASOS_CHC_DICOM/116/A/imagem22.dcm')"
      ],
      "execution_count": null,
      "outputs": []
    },
    {
      "cell_type": "code",
      "metadata": {
        "colab": {
          "base_uri": "https://localhost:8080/"
        },
        "id": "v1X2GDNw-pKJ",
        "outputId": "729ba1bc-375a-4ec8-987b-5c81601eb9ae"
      },
      "source": [
        "dicom.pixel_array[183:238,138:180]"
      ],
      "execution_count": null,
      "outputs": [
        {
          "output_type": "execute_result",
          "data": {
            "text/plain": [
              "array([[ 16, -37, -12, ...,  42,  48,  75],\n",
              "       [-19, -20, -15, ...,  66,  91,  69],\n",
              "       [-15, -15, -41, ...,  60,  68,  37],\n",
              "       ...,\n",
              "       [ 73,  81,  68, ...,  63,  63,  46],\n",
              "       [ 64,  58,  63, ...,  78,  57,  64],\n",
              "       [ 31,  69,  28, ...,  46,  65,  45]], dtype=int16)"
            ]
          },
          "metadata": {
            "tags": []
          },
          "execution_count": 4
        }
      ]
    },
    {
      "cell_type": "code",
      "metadata": {
        "colab": {
          "base_uri": "https://localhost:8080/"
        },
        "id": "Kib4Vihu_ATH",
        "outputId": "f2c81cbc-2a67-47b9-f7cd-234d4f3a5047"
      },
      "source": [
        "np.array(dicom.pixel_array[183:238,138:180])"
      ],
      "execution_count": null,
      "outputs": [
        {
          "output_type": "execute_result",
          "data": {
            "text/plain": [
              "array([[ 16, -37, -12, ...,  42,  48,  75],\n",
              "       [-19, -20, -15, ...,  66,  91,  69],\n",
              "       [-15, -15, -41, ...,  60,  68,  37],\n",
              "       ...,\n",
              "       [ 73,  81,  68, ...,  63,  63,  46],\n",
              "       [ 64,  58,  63, ...,  78,  57,  64],\n",
              "       [ 31,  69,  28, ...,  46,  65,  45]], dtype=int16)"
            ]
          },
          "metadata": {
            "tags": []
          },
          "execution_count": 7
        }
      ]
    },
    {
      "cell_type": "code",
      "metadata": {
        "id": "RqEo2q0n_PtL",
        "colab": {
          "base_uri": "https://localhost:8080/"
        },
        "outputId": "ae3f07aa-be3b-4e3e-e4c2-3190f310c6b6"
      },
      "source": [
        "dicom"
      ],
      "execution_count": null,
      "outputs": [
        {
          "output_type": "execute_result",
          "data": {
            "text/plain": [
              "Dataset.file_meta -------------------------------\n",
              "(0002, 0000) File Meta Information Group Length  UL: 184\n",
              "(0002, 0001) File Meta Information Version       OB: b'\\x00\\x01'\n",
              "(0002, 0002) Media Storage SOP Class UID         UI: CT Image Storage\n",
              "(0002, 0003) Media Storage SOP Instance UID      UI: 1.2.392.200036.9116.2.6.1.48.1214214735.1278391298.308681\n",
              "(0002, 0010) Transfer Syntax UID                 UI: Explicit VR Little Endian\n",
              "(0002, 0012) Implementation Class UID            UI: 1.3.6.1.4.1.32203\n",
              "(0002, 0013) Implementation Version Name         SH: 'PIXEON'\n",
              "-------------------------------------------------\n",
              "(0008, 0008) Image Type                          CS: ['ORIGINAL', 'PRIMARY', 'AXIAL']\n",
              "(0008, 0016) SOP Class UID                       UI: CT Image Storage\n",
              "(0008, 0018) SOP Instance UID                    UI: 1.2.392.200036.9116.2.6.1.48.1214214735.1278391298.308681\n",
              "(0008, 0020) Study Date                          DA: '20100706'\n",
              "(0008, 0021) Series Date                         DA: '20100706'\n",
              "(0008, 0022) Acquisition Date                    DA: '20100706'\n",
              "(0008, 0023) Content Date                        DA: '20100706'\n",
              "(0008, 0030) Study Time                          TM: '133209.000'\n",
              "(0008, 0031) Series Time                         TM: '134126.312'\n",
              "(0008, 0032) Acquisition Time                    TM: '134107.900'\n",
              "(0008, 0033) Content Time                        TM: '134109.960'\n",
              "(0008, 0050) Accession Number                    SH: '16908'\n",
              "(0008, 0060) Modality                            CS: 'CT'\n",
              "(0008, 0070) Manufacturer                        LO: 'TOSHIBA'\n",
              "(0008, 0080) Institution Name                    LO: 'HC UNICAMP'\n",
              "(0008, 0090) Referring Physician's Name          PN: ''\n",
              "(0008, 1010) Station Name                        SH: 'ID_STATION'\n",
              "(0008, 1030) Study Description                   LO: 'TORAX E ABD'\n",
              "(0008, 103e) Series Description                  LO: 'Spine 3.0 FASE/ARTERIAL CE'\n",
              "(0008, 1040) Institutional Department Name       LO: 'ID_DEPARTMENT'\n",
              "(0008, 1090) Manufacturer's Model Name           LO: 'Aquilion'\n",
              "(0008, 2111) Derivation Description              ST: 'Lossless JPEG compression, selection value 1, point transform 0, compression ratio 2.5032'\n",
              "(0008, 9215)  Derivation Code Sequence  1 item(s) ---- \n",
              "   (0008, 0100) Code Value                          SH: '121327'\n",
              "   (0008, 0102) Coding Scheme Designator            SH: 'DCM'\n",
              "   (0008, 0104) Code Meaning                        LO: 'Full fidelity image, uncompressed or lossless compressed'\n",
              "   ---------\n",
              "(0010, 0010) Patient's Name                      PN: 'OILDO VICENTE ALVES'\n",
              "(0010, 0020) Patient ID                          LO: '8166117'\n",
              "(0010, 0030) Patient's Birth Date                DA: '19500114'\n",
              "(0010, 0040) Patient's Sex                       CS: 'M'\n",
              "(0010, 1010) Patient's Age                       AS: '060Y'\n",
              "(0018, 0010) Contrast/Bolus Agent                LO: 'CE'\n",
              "(0018, 0015) Body Part Examined                  CS: 'TORAX E ABD'\n",
              "(0018, 0022) Scan Options                        CS: 'HELICAL_CT'\n",
              "(0018, 0050) Slice Thickness                     DS: \"3.0\"\n",
              "(0018, 0060) KVP                                 DS: \"120.0\"\n",
              "(0018, 0090) Data Collection Diameter            DS: \"500.0\"\n",
              "(0018, 1000) Device Serial Number                LO: 'SERIALNO'\n",
              "(0018, 1020) Software Versions                   LO: 'V3.20ER010'\n",
              "(0018, 1030) Protocol Name                       LO: 'TORAX E ABD FASES HEPATICAS'\n",
              "(0018, 1100) Reconstruction Diameter             DS: \"423.828\"\n",
              "(0018, 1120) Gantry/Detector Tilt                DS: \"0.0\"\n",
              "(0018, 1130) Table Height                        DS: \"99.0\"\n",
              "(0018, 1140) Rotation Direction                  CS: 'CW'\n",
              "(0018, 1150) Exposure Time                       IS: \"600\"\n",
              "(0018, 1151) X-Ray Tube Current                  IS: \"350\"\n",
              "(0018, 1152) Exposure                            IS: \"210\"\n",
              "(0018, 1160) Filter Type                         SH: 'EC'\n",
              "(0018, 1170) Generator Power                     IS: \"42\"\n",
              "(0018, 1190) Focal Spot(s)                       DS: [1.6, 1.4]\n",
              "(0018, 1210) Convolution Kernel                  SH: 'FC03'\n",
              "(0018, 5100) Patient Position                    CS: 'FFS'\n",
              "(0018, 9323) Exposure Modulation Type            CS: '3D'\n",
              "(0018, 9324) Estimated Dose Saving               FD: 0.53\n",
              "(0018, 9345) CTDIvol                             FD: 66.7\n",
              "(0020, 000d) Study Instance UID                  UI: 1.2.392.200036.9116.2.6.1.48.1214214735.1278390548.971061\n",
              "(0020, 000e) Series Instance UID                 UI: 1.2.392.200036.9116.2.6.1.48.1214214735.1278391286.934925\n",
              "(0020, 0010) Study ID                            SH: '16906'\n",
              "(0020, 0011) Series Number                       IS: \"6\"\n",
              "(0020, 0012) Acquisition Number                  IS: \"6\"\n",
              "(0020, 0013) Instance Number                     IS: \"22\"\n",
              "(0020, 0020) Patient Orientation                 CS: ['L', 'P']\n",
              "(0020, 0032) Image Position (Patient)            DS: [-209.9609, -238.2812, 1481]\n",
              "(0020, 0037) Image Orientation (Patient)         DS: [1, 0, 0, 0, 1, 0]\n",
              "(0020, 0052) Frame of Reference UID              UI: 1.2.392.200036.9116.2.6.1.48.1214214735.1278390897.4927\n",
              "(0020, 1040) Position Reference Indicator        LO: ''\n",
              "(0020, 1041) Slice Location                      DS: \"256.5\"\n",
              "(0020, 4000) Image Comments                      LT: 'FASE\\\\ARTERIAL'\n",
              "(0028, 0002) Samples per Pixel                   US: 1\n",
              "(0028, 0004) Photometric Interpretation          CS: 'MONOCHROME2'\n",
              "(0028, 0008) Number of Frames                    IS: \"1\"\n",
              "(0028, 0010) Rows                                US: 512\n",
              "(0028, 0011) Columns                             US: 512\n",
              "(0028, 0030) Pixel Spacing                       DS: [0.827, 0.827]\n",
              "(0028, 0100) Bits Allocated                      US: 16\n",
              "(0028, 0101) Bits Stored                         US: 16\n",
              "(0028, 0102) High Bit                            US: 15\n",
              "(0028, 0103) Pixel Representation                US: 1\n",
              "(0028, 1050) Window Center                       DS: \"40.0\"\n",
              "(0028, 1051) Window Width                        DS: \"380.0\"\n",
              "(0028, 1052) Rescale Intercept                   DS: \"0.0\"\n",
              "(0028, 1053) Rescale Slope                       DS: \"1.0\"\n",
              "(0040, 0002) Scheduled Procedure Step Start Date DA: '20100706'\n",
              "(0040, 0003) Scheduled Procedure Step Start Time TM: '133209.000'\n",
              "(0040, 0004) Scheduled Procedure Step End Date   DA: '20100706'\n",
              "(0040, 0005) Scheduled Procedure Step End Time   TM: '140209.000'\n",
              "(0040, 0244) Performed Procedure Step Start Date DA: '20100706'\n",
              "(0040, 0245) Performed Procedure Step Start Time TM: '133209.000'\n",
              "(0040, 0253) Performed Procedure Step ID         SH: '16478'\n",
              "(7005, 0010) Private Creator                     LO: 'TOSHIBA_MEC_CT3'\n",
              "(7005, 1007) [Reconstruction Center]             UN: b'258\\\\229 '\n",
              "(7005, 1008) [Detector Slice Thickness in mm]    UN: b'0.5 '\n",
              "(7005, 1009) [Number of Detector rows to Reconst UN: Array of 64 elements\n",
              "(7005, 100a) [Table Speed in mm/rot]             UN: b'+26.50'\n",
              "(7005, 100b) [Filter]                            UN: b'ORG '\n",
              "(7005, 100d) [Organ]                             UN: b'TORAX E ABD '\n",
              "(7005, 100e) [File Type Remarks]                 UN: b'IMG '\n",
              "(7005, 100f) [Direction]                         UN: b'FF'\n",
              "(7005, 1012) [Position]                          UN: b'SU'\n",
              "(7005, 1013) [Expert Plan No.]                   UN: b'\\x02\\x00'\n",
              "(7005, 1015) [Special Helical ACQ No.]           UN: b'\\x02\\x00'\n",
              "(7005, 1016) [Volume UID]                        UN: Array of 58 elements\n",
              "(7005, 1017) [Total Frame Count in the Volume]   UN: b'\\x01\\x00'\n",
              "(7005, 1018) [Frame No.]                         UN: b'\\x01\\x00'\n",
              "(7005, 1019) [Frame Sort Key]                    UN: b'\\x0b\\x11\\x19\\x00'\n",
              "(7005, 101a) [Frame Sort Order]                  UN: b'\\x00\\x00'\n",
              "(7005, 101b) [Convolution Kernel]                UN: b'FC03'\n",
              "(7005, 101c) [Contrast/Bolus Agent]              UN: b'CE'\n",
              "(7005, 101d) [Reconstruction Number]             UN: b'\\x01\\x00\\x00\\x00'\n",
              "(7005, 101e) [Raw Data Number]                   UN: b'\\x00\\x00\\x00\\x00'\n",
              "(7005, 101f) [Volume Number]                     UN: b'00'\n",
              "(7005, 1020) [Local Series Number]               UN: b'\\x06\\x00\\x00\\x00'\n",
              "(7005, 1022) [Reconstruction Interval]           UN: b'3.00'\n",
              "(7005, 1023) [Pitch Factor]                      UN: b'0.828 '\n",
              "(7005, 1024) [The Acquisition Date of NRA]       UN: b'20100428'\n",
              "(7005, 1030) [Main Modality in Study]            UN: b'CT'\n",
              "(7005, 1040) [DLP Dose Length Product]           UN: b'\\x9a\\x99\\x99\\x99\\x99s\\xa2@'\n",
              "(7fe0, 0010) Pixel Data                          OW: Array of 524288 elements"
            ]
          },
          "metadata": {
            "tags": []
          },
          "execution_count": 8
        }
      ]
    },
    {
      "cell_type": "code",
      "metadata": {
        "colab": {
          "base_uri": "https://localhost:8080/"
        },
        "id": "ntGSQ74B2IFa",
        "outputId": "3a8ffd3f-198c-477c-afe6-5d7e7b6ba352"
      },
      "source": [
        "list_slices('84:51','path')"
      ],
      "execution_count": null,
      "outputs": [
        {
          "output_type": "stream",
          "text": [
            "path 84:51 84 51\n",
            "[]\n",
            "[]\n"
          ],
          "name": "stdout"
        }
      ]
    },
    {
      "cell_type": "code",
      "metadata": {
        "colab": {
          "base_uri": "https://localhost:8080/",
          "height": 387
        },
        "id": "0vqQfO7hk8DO",
        "outputId": "49665224-4a00-4b37-ce3c-604a213fe8e8"
      },
      "source": [
        "for n in nod_list_A:\n",
        "  xinterval = str(n['x0']) + ':' + str(n['x1'])\n",
        "  yinterval = str(n['y0']) + ':' + str(n['y1'])\n",
        "  sliceinterval = str(n['s0']) + ':' + str(n['s1'])\n",
        "  pacient_id = n['pacient_id']\n",
        "  crop_img(xinterval, yinterval, sliceinterval, pacient_id)"
      ],
      "execution_count": null,
      "outputs": [
        {
          "output_type": "stream",
          "text": [
            "['gdrive/Shareddrives/MO286 - Visualização de Dados/data_images/CASOS_CHC_DICOM/116/A/']\n",
            "gdrive/Shareddrives/MO286 - Visualização de Dados/data_images/CASOS_CHC_DICOM/116/A/\n"
          ],
          "name": "stdout"
        },
        {
          "output_type": "error",
          "ename": "ValueError",
          "evalue": "ignored",
          "traceback": [
            "\u001b[0;31m---------------------------------------------------------------------------\u001b[0m",
            "\u001b[0;31mValueError\u001b[0m                                Traceback (most recent call last)",
            "\u001b[0;32m<ipython-input-44-bb24f0c14fa2>\u001b[0m in \u001b[0;36m<module>\u001b[0;34m()\u001b[0m\n\u001b[1;32m      4\u001b[0m   \u001b[0msliceinterval\u001b[0m \u001b[0;34m=\u001b[0m \u001b[0mstr\u001b[0m\u001b[0;34m(\u001b[0m\u001b[0mn\u001b[0m\u001b[0;34m[\u001b[0m\u001b[0;34m's0'\u001b[0m\u001b[0;34m]\u001b[0m\u001b[0;34m)\u001b[0m \u001b[0;34m+\u001b[0m \u001b[0;34m':'\u001b[0m \u001b[0;34m+\u001b[0m \u001b[0mstr\u001b[0m\u001b[0;34m(\u001b[0m\u001b[0mn\u001b[0m\u001b[0;34m[\u001b[0m\u001b[0;34m's1'\u001b[0m\u001b[0;34m]\u001b[0m\u001b[0;34m)\u001b[0m\u001b[0;34m\u001b[0m\u001b[0;34m\u001b[0m\u001b[0m\n\u001b[1;32m      5\u001b[0m   \u001b[0mpacient_id\u001b[0m \u001b[0;34m=\u001b[0m \u001b[0mn\u001b[0m\u001b[0;34m[\u001b[0m\u001b[0;34m'pacient_id'\u001b[0m\u001b[0;34m]\u001b[0m\u001b[0;34m\u001b[0m\u001b[0;34m\u001b[0m\u001b[0m\n\u001b[0;32m----> 6\u001b[0;31m   \u001b[0mcrop_img\u001b[0m\u001b[0;34m(\u001b[0m\u001b[0mxinterval\u001b[0m\u001b[0;34m,\u001b[0m \u001b[0myinterval\u001b[0m\u001b[0;34m,\u001b[0m \u001b[0msliceinterval\u001b[0m\u001b[0;34m,\u001b[0m \u001b[0mpacient_id\u001b[0m\u001b[0;34m)\u001b[0m\u001b[0;34m\u001b[0m\u001b[0;34m\u001b[0m\u001b[0m\n\u001b[0m",
            "\u001b[0;32m<ipython-input-43-c96533df0c84>\u001b[0m in \u001b[0;36mcrop_img\u001b[0;34m(xinterval, yinterval, sliceinterval, pacient_id)\u001b[0m\n\u001b[1;32m     12\u001b[0m     \u001b[0;31m#dicom = pydicom.dcmread(sli + 'imagem8.dcm')\u001b[0m\u001b[0;34m\u001b[0m\u001b[0;34m\u001b[0m\u001b[0;34m\u001b[0m\u001b[0m\n\u001b[1;32m     13\u001b[0m     \u001b[0;31m#list_slices(sli, data_img_A)\u001b[0m\u001b[0;34m\u001b[0m\u001b[0;34m\u001b[0m\u001b[0;34m\u001b[0m\u001b[0m\n\u001b[0;32m---> 14\u001b[0;31m     \u001b[0mlist_slices\u001b[0m\u001b[0;34m(\u001b[0m\u001b[0msli\u001b[0m\u001b[0;34m,\u001b[0m \u001b[0mpath_img\u001b[0m\u001b[0;34m)\u001b[0m\u001b[0;34m\u001b[0m\u001b[0;34m\u001b[0m\u001b[0m\n\u001b[0m\u001b[1;32m     15\u001b[0m \u001b[0;34m\u001b[0m\u001b[0m\n\u001b[1;32m     16\u001b[0m \u001b[0;34m\u001b[0m\u001b[0m\n",
            "\u001b[0;32m<ipython-input-43-c96533df0c84>\u001b[0m in \u001b[0;36mlist_slices\u001b[0;34m(sliceinterval, imgpath)\u001b[0m\n\u001b[1;32m     18\u001b[0m   \u001b[0mimg_slice_list\u001b[0m \u001b[0;34m=\u001b[0m \u001b[0mlist\u001b[0m\u001b[0;34m(\u001b[0m\u001b[0mrange\u001b[0m\u001b[0;34m(\u001b[0m\u001b[0;36m1\u001b[0m\u001b[0;34m,\u001b[0m \u001b[0;36m300\u001b[0m\u001b[0;34m)\u001b[0m\u001b[0;34m)\u001b[0m\u001b[0;34m\u001b[0m\u001b[0;34m\u001b[0m\u001b[0m\n\u001b[1;32m     19\u001b[0m   \u001b[0mdots\u001b[0m \u001b[0;34m=\u001b[0m \u001b[0msliceinterval\u001b[0m\u001b[0;34m.\u001b[0m\u001b[0mfind\u001b[0m\u001b[0;34m(\u001b[0m\u001b[0;34m':'\u001b[0m\u001b[0;34m)\u001b[0m\u001b[0;34m\u001b[0m\u001b[0;34m\u001b[0m\u001b[0m\n\u001b[0;32m---> 20\u001b[0;31m   \u001b[0mbegin_slice\u001b[0m \u001b[0;34m=\u001b[0m \u001b[0mint\u001b[0m\u001b[0;34m(\u001b[0m\u001b[0msliceinterval\u001b[0m\u001b[0;34m[\u001b[0m\u001b[0;36m0\u001b[0m\u001b[0;34m:\u001b[0m\u001b[0mdots\u001b[0m\u001b[0;34m]\u001b[0m\u001b[0;34m)\u001b[0m\u001b[0;34m\u001b[0m\u001b[0;34m\u001b[0m\u001b[0m\n\u001b[0m\u001b[1;32m     21\u001b[0m   \u001b[0mend_slice\u001b[0m \u001b[0;34m=\u001b[0m \u001b[0mint\u001b[0m\u001b[0;34m(\u001b[0m\u001b[0msliceinterval\u001b[0m\u001b[0;34m[\u001b[0m\u001b[0mdots\u001b[0m\u001b[0;34m+\u001b[0m\u001b[0;36m1\u001b[0m\u001b[0;34m:\u001b[0m\u001b[0mlen\u001b[0m\u001b[0;34m(\u001b[0m\u001b[0msliceinterval\u001b[0m\u001b[0;34m)\u001b[0m\u001b[0;34m]\u001b[0m\u001b[0;34m)\u001b[0m\u001b[0;34m\u001b[0m\u001b[0;34m\u001b[0m\u001b[0m\n\u001b[1;32m     22\u001b[0m   \u001b[0mselect_slice_list\u001b[0m \u001b[0;34m=\u001b[0m \u001b[0mimg_slice_list\u001b[0m\u001b[0;34m[\u001b[0m\u001b[0mbegin_slice\u001b[0m\u001b[0;34m:\u001b[0m\u001b[0mend_slice\u001b[0m\u001b[0;34m]\u001b[0m\u001b[0;34m\u001b[0m\u001b[0;34m\u001b[0m\u001b[0m\n",
            "\u001b[0;31mValueError\u001b[0m: invalid literal for int() with base 10: 'gdrive/Shareddrives/MO286 - Visualização de Dados/data_images/CASOS_CHC_DICOM/116/A'"
          ]
        }
      ]
    },
    {
      "cell_type": "code",
      "metadata": {
        "colab": {
          "base_uri": "https://localhost:8080/"
        },
        "id": "G6W3NLr04mr5",
        "outputId": "953ffc25-ce00-43fa-8523-1091ea90d696"
      },
      "source": [
        "for img in tqdm(data_img_A):\n",
        "  img_id = os.path.basename(img)\n",
        "  frame_path =  glob(img_id)\n",
        "  #print(frame_path)\n",
        "  #frame_path =  glob(img + '/C/*')\n",
        "  # print('Qtd frames: ', len(frame_path))\n",
        "  for frame in frame_path:\n",
        "    # print(frame)\n",
        "    img = Image.open(frame)\n",
        "    img = img.convert('L')\n",
        "    img = img.resize((128, 128))\n",
        "    img.show()"
      ],
      "execution_count": null,
      "outputs": [
        {
          "output_type": "stream",
          "text": [
            "100%|██████████| 118/118 [00:00<00:00, 18162.49it/s]\n"
          ],
          "name": "stderr"
        }
      ]
    },
    {
      "cell_type": "code",
      "metadata": {
        "id": "lGrObLTUxtHb"
      },
      "source": [
        "# abrir as imagens em DICOM"
      ],
      "execution_count": null,
      "outputs": []
    },
    {
      "cell_type": "code",
      "metadata": {
        "id": "_Wy1Hr_Xxv42"
      },
      "source": [
        "# converter para NUMPY"
      ],
      "execution_count": null,
      "outputs": []
    },
    {
      "cell_type": "code",
      "metadata": {
        "id": "ng16-hgIxzXP"
      },
      "source": [
        "# recortar as imagens"
      ],
      "execution_count": null,
      "outputs": []
    },
    {
      "cell_type": "markdown",
      "metadata": {
        "id": "7MCXSGHLUH8B"
      },
      "source": [
        "## 4) Salvar as imagens \n",
        "\n",
        "Opções para exportar as imagens dos nódulos recorados:\n",
        "\n",
        "*   Salvar as imagens em DICOM, em uma nova pasta\n",
        "*   Serializar e salvar em formato PICKLE"
      ]
    },
    {
      "cell_type": "markdown",
      "metadata": {
        "id": "Q4POeq5MLVL_"
      },
      "source": [
        "## N) Outros trechos de código (Archieved)\n",
        "\n",
        "Trechos extraídos do código `voxel_processing.ipynb`, e mantidos aqui apenas para referência."
      ]
    },
    {
      "cell_type": "code",
      "metadata": {
        "id": "PFIwZGRKwfLc"
      },
      "source": [
        "data_map = 'gdrive/Shareddrives/MO286 - Visualização de Dados/data_csv/mapeamento_nomes_invasao.csv'\n",
        "data_imgs = 'gdrive/Shareddrives/MO286 - Visualização de Dados/data_images/CASOS_CHC_CORTES/*'\n",
        "\n",
        "dataset_map = pd.read_csv(data_map)"
      ],
      "execution_count": null,
      "outputs": []
    },
    {
      "cell_type": "code",
      "metadata": {
        "id": "96fi-yn_cbNN"
      },
      "source": [
        "train = 'gdrive/Shareddrives/MO286 - Visualização de Dados/data_csv/train.csv'\n",
        "val = 'gdrive/Shareddrives/MO286 - Visualização de Dados/data_csv/val.csv'\n",
        "test = 'gdrive/Shareddrives/MO286 - Visualização de Dados/data_csv/test.csv'\n",
        "\n",
        "N_SLICES = 64"
      ],
      "execution_count": null,
      "outputs": []
    },
    {
      "cell_type": "code",
      "metadata": {
        "id": "2U0wglYr3fep"
      },
      "source": [
        "def get_maximum(list_matrix):\n",
        "\n",
        "  if len(list_matrix) == 1:\n",
        "    return list_matrix[-1]\n",
        "\n",
        "  for idx in range(len(list_matrix)-1):\n",
        "\n",
        "    if idx == 0:  \n",
        "      maximum = np.maximum(list_matrix[idx], list_matrix[idx+1])\n",
        "\n",
        "    else:\n",
        "      maximum = np.maximum(maximum, list_matrix[idx+1])\n",
        "\n",
        "  return maximum\n"
      ],
      "execution_count": null,
      "outputs": []
    },
    {
      "cell_type": "code",
      "metadata": {
        "id": "hjDtMyjG9pWI"
      },
      "source": [
        "def get_minimum(list_matrix):\n",
        "\n",
        "  if len(list_matrix) == 1:\n",
        "    return list_matrix[-1]\n",
        "\n",
        "  for idx in range(len(list_matrix)-1):\n",
        "\n",
        "    if idx == 0:  \n",
        "      minimum = np.minimum(list_matrix[idx], list_matrix[idx+1])\n",
        "\n",
        "    else:\n",
        "      minimum = np.minimum(minimum, list_matrix[idx+1])\n",
        "\n",
        "  return minimum"
      ],
      "execution_count": null,
      "outputs": []
    },
    {
      "cell_type": "code",
      "metadata": {
        "id": "BNFDMoRlzQJH"
      },
      "source": [
        "def get_chuncks(slices, n_chuncks):\n",
        "\n",
        "  '''Receives a list of images\n",
        "\n",
        "  returns the list chuncks\n",
        "\n",
        "  '''\n",
        "\n",
        "  n_chuncks = math.ceil(len(slices) / n_chuncks)\n",
        "\n",
        "  for i in range(0, len(slices), n_chuncks):\n",
        "    yield slices[i:i+n_chuncks]"
      ],
      "execution_count": null,
      "outputs": []
    },
    {
      "cell_type": "code",
      "metadata": {
        "id": "0AUGAkqxQZRE"
      },
      "source": [
        "N_CHUNCKS = 64\n",
        "\n",
        "patients = glob(data_imgs)"
      ],
      "execution_count": null,
      "outputs": []
    },
    {
      "cell_type": "code",
      "metadata": {
        "id": "acjUP0-ZaZiF",
        "colab": {
          "base_uri": "https://localhost:8080/"
        },
        "outputId": "830fc5e3-7815-4c16-dc40-72cb1c62cb43"
      },
      "source": [
        "voxels = []\n",
        "patients_ids = []\n",
        "labels = []\n",
        "\n",
        "for pat in tqdm(patients):\n",
        "  pat_id = int(os.path.basename(pat))\n",
        "  \n",
        "  patients_ids.append(pat_id)\n",
        "  labels.append(dataset_map.imv[dataset_map.key == pat_id].values[0])\n",
        "\n",
        "  slices = []\n",
        "  \n",
        "  frame_path =  glob(pat + '/C/*')\n",
        "  # print('Qtd frames: ', len(frame_path))\n",
        "\n",
        "  for frame in frame_path:\n",
        "\n",
        "    img = Image.open(frame)\n",
        "    img = img.convert('L')\n",
        "    img = img.resize((128, 128))\n",
        "\n",
        "    slices.append(np.array(img))\n",
        "  \n",
        "  voxel = []\n",
        "  try:\n",
        "      \n",
        "    for chunck in get_chuncks(slices, N_CHUNCKS):\n",
        "\n",
        "      voxel.append(np.average(chunck, axis=0))\n",
        "\n",
        "    voxels.append(voxel)\n",
        "\n",
        "  except Exception as e:\n",
        "    \n",
        "    print('Paciente {} não contém dados listados como Série Equilíbrio'.format(os.path.basename(pat)))"
      ],
      "execution_count": null,
      "outputs": [
        {
          "output_type": "stream",
          "text": [
            "100%|██████████| 126/126 [1:43:47<00:00, 49.43s/it]\n"
          ],
          "name": "stderr"
        }
      ]
    },
    {
      "cell_type": "code",
      "metadata": {
        "id": "IxzJB4kg9pQ_"
      },
      "source": [
        "new_data = pd.DataFrame({'paciente_id':patients_ids, 'label':labels})"
      ],
      "execution_count": null,
      "outputs": []
    },
    {
      "cell_type": "code",
      "metadata": {
        "id": "MdkM60Dk6RW1"
      },
      "source": [
        "new_voxels = []\n",
        "\n",
        "for v in voxels:\n",
        "\n",
        "  diff = N_CHUNCKS - len(v)\n",
        "\n",
        "  if diff != 0:\n",
        "\n",
        "    slices_to_add = v[-diff:]\n",
        "    new_voxels.append(v + slices_to_add)\n",
        "\n",
        "  else:\n",
        "    new_voxels.append(v)\n",
        "    "
      ],
      "execution_count": null,
      "outputs": []
    },
    {
      "cell_type": "code",
      "metadata": {
        "id": "LMfBgDFJ9pRR"
      },
      "source": [
        "new_data['img_volume'] = new_voxels"
      ],
      "execution_count": null,
      "outputs": []
    },
    {
      "cell_type": "code",
      "metadata": {
        "id": "35Nbz_kE9pRR"
      },
      "source": [
        "new_data.to_pickle('gdrive/Shareddrives/MO286 - Visualização de Dados/data_images/train_val_test_datasets/crop_mean_64_slices/crop_mean_64_slices.pkl')"
      ],
      "execution_count": null,
      "outputs": []
    }
  ]
}