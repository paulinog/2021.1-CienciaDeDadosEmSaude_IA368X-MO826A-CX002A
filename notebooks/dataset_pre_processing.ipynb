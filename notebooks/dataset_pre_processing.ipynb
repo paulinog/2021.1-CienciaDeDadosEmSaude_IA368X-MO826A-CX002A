{
  "nbformat": 4,
  "nbformat_minor": 0,
  "metadata": {
    "colab": {
      "name": "dataset_pre_processing",
      "provenance": [],
      "collapsed_sections": []
    },
    "kernelspec": {
      "name": "python3",
      "display_name": "Python 3"
    },
    "language_info": {
      "name": "python"
    }
  },
  "cells": [
    {
      "cell_type": "markdown",
      "metadata": {
        "id": "EJEDubFh3_dJ"
      },
      "source": [
        "# Pré-Processamento dos Dados\n",
        "\n",
        "Ciência e Visualização de Dados em Saúde (2021.1)\n",
        "\n",
        "UNICAMP - Universidade Estadual de Campinas\n",
        "\n",
        "Daniel Alvarenga Fernandes, 190943 (Saúde/FCM) \\\\\n",
        "Giovane William de Souza Gomes, 093801 (Computação/FEEC) \\\\\n",
        "Guilherme Paulino, 117119 (Computação/FEEC) \\\\\n",
        "Stephane de Freitas Schwarz, 211518 (Computação/IC)\n",
        "\n",
        "---\n",
        "\n",
        "\n"
      ]
    },
    {
      "cell_type": "code",
      "metadata": {
        "colab": {
          "base_uri": "https://localhost:8080/"
        },
        "id": "Swlg8P7eeW_8",
        "outputId": "c4c339ee-015f-421c-ecec-a20245b8cd3e"
      },
      "source": [
        "from google.colab import drive\n",
        "drive.mount('/content/drive')"
      ],
      "execution_count": null,
      "outputs": [
        {
          "output_type": "stream",
          "text": [
            "Drive already mounted at /content/drive; to attempt to forcibly remount, call drive.mount(\"/content/drive\", force_remount=True).\n"
          ],
          "name": "stdout"
        }
      ]
    },
    {
      "cell_type": "code",
      "metadata": {
        "colab": {
          "base_uri": "https://localhost:8080/"
        },
        "id": "8JcTQD_-KaLs",
        "outputId": "0ee58cae-b409-4a90-fd5c-88b2c55a7101"
      },
      "source": [
        "root_1 = 'drive/Shareddrives/MO286 - Visualização de Dados/data_csv/raw_sheets/'\n",
        "!ls 'drive/Shareddrives/MO286 - Visualização de Dados/data_csv/raw_sheets/'"
      ],
      "execution_count": null,
      "outputs": [
        {
          "output_type": "stream",
          "text": [
            "'PLANILHA COM TODOS OS DADOS!.xlsx'   s2.csv   s4.csv   s6.csv\t s8.csv\n",
            " s1.csv\t\t\t\t      s3.csv   s5.csv   s7.csv\t s9.csv\n"
          ],
          "name": "stdout"
        }
      ]
    },
    {
      "cell_type": "code",
      "metadata": {
        "colab": {
          "base_uri": "https://localhost:8080/"
        },
        "id": "pr1jzIKQf31K",
        "outputId": "9ae6e0ac-ea6e-4cc9-a801-63e111a3b799"
      },
      "source": [
        "root = 'drive/Shareddrives/MO286 - Visualização de Dados/data_csv/'\n",
        "!ls 'drive/Shareddrives/MO286 - Visualização de Dados/data_csv/'"
      ],
      "execution_count": null,
      "outputs": [
        {
          "output_type": "stream",
          "text": [
            "backup\t     mapeamento_nomes.csv  s1.csv  s3.csv  s5.csv  s7.csv  s9.csv\n",
            "columns.csv  raw_sheets\t\t   s2.csv  s4.csv  s6.csv  s8.csv\n"
          ],
          "name": "stdout"
        }
      ]
    },
    {
      "cell_type": "code",
      "metadata": {
        "id": "0XISUhbwg8e7"
      },
      "source": [
        "root_imgs = 'drive/Shareddrives/MO286 - Visualização de Dados/data_images/CASOS_CHC_FULL/'\n",
        "\n",
        "# !ls 'drive/Shareddrives/MO286 - Visualização de Dados/data_images/CASOS_CHC_FULL'"
      ],
      "execution_count": null,
      "outputs": []
    },
    {
      "cell_type": "code",
      "metadata": {
        "colab": {
          "base_uri": "https://localhost:8080/"
        },
        "id": "mfxK3q7u99af",
        "outputId": "fd107eaa-d929-4be5-e91d-066aafdbc9f6"
      },
      "source": [
        "!pip install unidecode"
      ],
      "execution_count": null,
      "outputs": [
        {
          "output_type": "stream",
          "text": [
            "Requirement already satisfied: unidecode in /usr/local/lib/python3.7/dist-packages (1.2.0)\n"
          ],
          "name": "stdout"
        }
      ]
    },
    {
      "cell_type": "code",
      "metadata": {
        "id": "_HI64yb5eFLS"
      },
      "source": [
        "# Importação de pacotes\n",
        "import pandas as pd\n",
        "import numpy as np\n",
        "import sklearn\n",
        "import matplotlib.pyplot as plt\n",
        "import seaborn as sns\n",
        "import unidecode\n",
        "import glob\n",
        "import os"
      ],
      "execution_count": null,
      "outputs": []
    },
    {
      "cell_type": "code",
      "metadata": {
        "id": "XF5oFkCMeVes"
      },
      "source": [
        "# Removendo colunas vazias\n",
        "def remove_null_cols(dataset):\n",
        "  dataset.drop([c for c in dataset if c.startswith('Unnamed')], axis=1, inplace=True)\n",
        "\n",
        "# Abrir todos os dados\n",
        "s1 = pd.read_csv(root_1+'s1.csv')\n",
        "s2 = pd.read_csv(root_1+'s2.csv')\n",
        "s3 = pd.read_csv(root_1+'s3.csv')\n",
        "s4 = pd.read_csv(root_1+'s4.csv')\n",
        "s5 = pd.read_csv(root_1+'s5.csv')\n",
        "s6 = pd.read_csv(root_1+'s6.csv')\n",
        "s7 = pd.read_csv(root_1+'s7.csv')\n",
        "s8 = pd.read_csv(root_1+'s8.csv')\n",
        "s9 = pd.read_csv(root_1+'s9.csv')\n",
        "\n",
        "all_datasets = [s1, s2, s3, s4, s5, s6, s7, s8, s9]\n",
        "\n",
        "for dataset in all_datasets:\n",
        "  remove_null_cols(dataset)"
      ],
      "execution_count": null,
      "outputs": []
    },
    {
      "cell_type": "code",
      "metadata": {
        "id": "D6oB8hPHhqHU"
      },
      "source": [
        "# Concatenando todos os dados para visualização de todas as features\n",
        "dataset = pd.concat([s1, s2], axis=0, ignore_index=True)\n",
        "dataset = pd.concat([dataset, s3], axis=0, ignore_index=True)\n",
        "dataset = pd.concat([dataset, s4], axis=0, ignore_index=True)\n",
        "dataset = pd.concat([dataset, s5], axis=0, ignore_index=True)\n",
        "dataset = pd.concat([dataset, s6], axis=0, ignore_index=True)\n",
        "dataset = pd.concat([dataset, s7], axis=0, ignore_index=True)\n",
        "dataset = pd.concat([dataset, s8], axis=0, ignore_index=True)\n",
        "dataset = pd.concat([dataset, s9], axis=0, ignore_index=True)"
      ],
      "execution_count": null,
      "outputs": []
    },
    {
      "cell_type": "code",
      "metadata": {
        "colab": {
          "base_uri": "https://localhost:8080/"
        },
        "id": "tNW3sdQvipAz",
        "outputId": "efa8bdc1-461a-48c6-a368-5530fe51ebef"
      },
      "source": [
        "print('Quantidade total de features: {}'.format(len(list(dataset))))"
      ],
      "execution_count": null,
      "outputs": [
        {
          "output_type": "stream",
          "text": [
            "Quantidade total de features: 60\n"
          ],
          "name": "stdout"
        }
      ]
    },
    {
      "cell_type": "code",
      "metadata": {
        "id": "c5mhx4HMjh8D",
        "colab": {
          "base_uri": "https://localhost:8080/"
        },
        "outputId": "2865f523-ee62-4d90-9bac-f0f22b608615"
      },
      "source": [
        "# Abrindo mapeamento de colunas\n",
        "new_col_names = pd.read_csv(root+'columns.csv')\n",
        "new_col_names.drop_duplicates(subset=['old'], inplace=True)\n",
        "print('Number of unique columns: ', new_col_names.shape)"
      ],
      "execution_count": null,
      "outputs": [
        {
          "output_type": "stream",
          "text": [
            "Number of unique columns:  (60, 2)\n"
          ],
          "name": "stdout"
        }
      ]
    },
    {
      "cell_type": "code",
      "metadata": {
        "id": "mE9tjIp6zGTd"
      },
      "source": [
        "# Alterando nome das colunas para facilitar acesso\n",
        "def change_column_names(data, ref):\n",
        "  dataset = data.copy()\n",
        "  final_col =[]\n",
        "  for old_c in dataset.columns:\n",
        "    new_c = ref.new[ref.old==old_c].values\n",
        "    if new_c:\n",
        "      final_col.append(new_c[0])\n",
        "\n",
        "  return final_col"
      ],
      "execution_count": null,
      "outputs": []
    },
    {
      "cell_type": "code",
      "metadata": {
        "id": "zNZHErNTTMRs"
      },
      "source": [
        "def remove_accents(string):\n",
        "  return unidecode.unidecode(string)"
      ],
      "execution_count": null,
      "outputs": []
    },
    {
      "cell_type": "code",
      "metadata": {
        "id": "XITQDO7IDXzK",
        "colab": {
          "base_uri": "https://localhost:8080/"
        },
        "outputId": "698c2e4f-6f8e-4ed9-a424-08121177f88a"
      },
      "source": [
        "dataset.columns = change_column_names(dataset, new_col_names)\n",
        "\n",
        "# Colocando nomes em minúsculo\n",
        "dataset.paciente = dataset.paciente.str.lower()\n",
        "\n",
        "print('Quantidade de pacientes: {}'.format(len(np.unique(dataset.paciente.dropna()))))"
      ],
      "execution_count": null,
      "outputs": [
        {
          "output_type": "stream",
          "text": [
            "Quantidade de pacientes: 147\n"
          ],
          "name": "stdout"
        }
      ]
    },
    {
      "cell_type": "code",
      "metadata": {
        "id": "D7AGFkfYWs-V"
      },
      "source": [
        "# Pacientes <-> anonimização geral\n",
        "\n",
        "dataset = dataset.dropna(subset=['paciente'])\n",
        "dataset.paciente = dataset.paciente.str.lower()\n",
        "dataset.paciente = dataset.paciente.str.strip()\n",
        "dataset.paciente = dataset.paciente.apply(remove_accents)\n",
        "\n",
        "c = dataset.paciente.astype('category')\n",
        "\n",
        "d = dict(enumerate(c.cat.categories))"
      ],
      "execution_count": null,
      "outputs": []
    },
    {
      "cell_type": "code",
      "metadata": {
        "id": "CujRgCecYzl4"
      },
      "source": [
        "mapping_names = pd.DataFrame(list(d.items()), columns=['key', 'name'])"
      ],
      "execution_count": null,
      "outputs": []
    },
    {
      "cell_type": "code",
      "metadata": {
        "id": "RECwF6-5YjHE"
      },
      "source": [
        "# mapping_names.to_csv(root+'mapeamento_nomes.csv')\n",
        "mapping_names = pd.read_csv(root+'mapeamento_nomes.csv')"
      ],
      "execution_count": null,
      "outputs": []
    },
    {
      "cell_type": "code",
      "metadata": {
        "id": "i9ISB7ZWduKa"
      },
      "source": [
        "def name_to_cat(name):\n",
        "  return int(mapping_names.key[mapping_names.name == name])"
      ],
      "execution_count": null,
      "outputs": []
    },
    {
      "cell_type": "code",
      "metadata": {
        "id": "OFmcHD6YE-q7",
        "colab": {
          "base_uri": "https://localhost:8080/"
        },
        "outputId": "636e546e-9517-437e-e378-37f79f66c956"
      },
      "source": [
        "cnt=0\n",
        "for dataset in all_datasets:\n",
        "  cnt+=1\n",
        "  dataset.columns = change_column_names(dataset, new_col_names)\n",
        "\n",
        "  if 'paciente' not in dataset.columns:\n",
        "\n",
        "    print(\"s\" + str(cnt) + \".csv: \" + \"não contém coluna paciente\")\n",
        "    continue\n",
        "\n",
        "  else:\n",
        "\n",
        "    try:\n",
        "      \n",
        "      dataset.dropna(subset=['paciente'], inplace=True)\n",
        "\n",
        "      dataset.paciente = dataset.paciente.str.lower()\n",
        "      dataset.paciente = dataset.paciente.str.strip()\n",
        "      dataset.paciente = dataset.paciente.apply(remove_accents)\n",
        "      dataset['paciente_id'] = dataset.paciente.apply(name_to_cat)\n",
        "\n",
        "    except AttributeError as err:\n",
        "      print(\"s\" + str(cnt) + \".csv: \" + str(err))\n",
        "      continue\n",
        "\n"
      ],
      "execution_count": null,
      "outputs": [
        {
          "output_type": "stream",
          "text": [
            "s7.csv: não contém coluna paciente\n",
            "s9.csv: não contém coluna paciente\n"
          ],
          "name": "stdout"
        }
      ]
    },
    {
      "cell_type": "markdown",
      "metadata": {
        "id": "sc3asX2lcXNZ"
      },
      "source": [
        "## Anonimizar os dados\n",
        "\n",
        "Serão removidas as colunas de identificação. "
      ]
    },
    {
      "cell_type": "code",
      "metadata": {
        "id": "0pIW1Kxs8Ut7"
      },
      "source": [
        "for dataset in all_datasets:\n",
        "  dataset.drop(['paciente', 'hc','data_tc','data_tx', 'data_tx_cx','data_nasc'], axis='columns', inplace=True, errors='ignore')"
      ],
      "execution_count": null,
      "outputs": []
    },
    {
      "cell_type": "markdown",
      "metadata": {
        "id": "A1HrpYqahihu"
      },
      "source": [
        "Anonimizando pastas de imagens."
      ]
    },
    {
      "cell_type": "code",
      "metadata": {
        "id": "_OAIpPW1irvM"
      },
      "source": [
        "def get_name_cat(name):\n",
        "\n",
        "  name = name.lower().strip()\n",
        "  name = remove_accents(name)\n",
        "  name = name_to_cat(name)\n",
        "\n",
        "  return name"
      ],
      "execution_count": null,
      "outputs": []
    },
    {
      "cell_type": "code",
      "metadata": {
        "id": "grPMxu8Lhh8i"
      },
      "source": [
        "# folders_path = glob.glob(root_imgs+'*')\n",
        "\n",
        "# for folder_path in folders_path:\n",
        "\n",
        "#   folder_name = os.path.basename(folder_path)\n",
        "#   folder = os.path.dirname(folder_path)\n",
        "\n",
        "#   p_name = get_name_cat(folder_name)\n",
        "\n",
        "#   print(folder, ' || ', folder_name, ' || ', p_name)\n",
        "#   break"
      ],
      "execution_count": null,
      "outputs": []
    },
    {
      "cell_type": "markdown",
      "metadata": {
        "id": "J5dDBm33go8j"
      },
      "source": [
        "### Colunas restantes em cada dataset"
      ]
    },
    {
      "cell_type": "code",
      "metadata": {
        "colab": {
          "base_uri": "https://localhost:8080/",
          "height": 224
        },
        "id": "UFwjnQt-bPbY",
        "outputId": "63d1a314-316f-4a43-df54-47265919f4ea"
      },
      "source": [
        "s1.head()"
      ],
      "execution_count": null,
      "outputs": [
        {
          "output_type": "execute_result",
          "data": {
            "text/html": [
              "<div>\n",
              "<style scoped>\n",
              "    .dataframe tbody tr th:only-of-type {\n",
              "        vertical-align: middle;\n",
              "    }\n",
              "\n",
              "    .dataframe tbody tr th {\n",
              "        vertical-align: top;\n",
              "    }\n",
              "\n",
              "    .dataframe thead th {\n",
              "        text-align: right;\n",
              "    }\n",
              "</style>\n",
              "<table border=\"1\" class=\"dataframe\">\n",
              "  <thead>\n",
              "    <tr style=\"text-align: right;\">\n",
              "      <th></th>\n",
              "      <th>delta_tc_tx_dias</th>\n",
              "      <th>tec_tc</th>\n",
              "      <th>loc_nod</th>\n",
              "      <th>tam_nod_cm</th>\n",
              "      <th>pre_contraste_hiperatenuante</th>\n",
              "      <th>roi_nod_pre_contraste</th>\n",
              "      <th>roi_1_parenquina_adj_pre_contraste</th>\n",
              "      <th>roi_2_parenquina_adj_pre_contraste</th>\n",
              "      <th>aten_med_paranq_pre_cont</th>\n",
              "      <th>hipervascularizacao_arterial</th>\n",
              "      <th>roi_nod_arterial</th>\n",
              "      <th>roi_1_parenquina_adj_arterial</th>\n",
              "      <th>roi_2_parenquina_adj_arterial</th>\n",
              "      <th>aten_med_paranq_arterial</th>\n",
              "      <th>roi_aorta_arterial</th>\n",
              "      <th>washout_portal</th>\n",
              "      <th>roi_nod_portal</th>\n",
              "      <th>roi_1_parenquina_adj_porta</th>\n",
              "      <th>roi_2_parenquina_adj_porta</th>\n",
              "      <th>aten_med_paranq_adj_porta</th>\n",
              "      <th>washout_equi</th>\n",
              "      <th>roi_nod_equi</th>\n",
              "      <th>roi_1_parenquina_adj_equi</th>\n",
              "      <th>roi_2_parenquina_adj_equi</th>\n",
              "      <th>aten_med_paranq_equi</th>\n",
              "      <th>pseudocapsula</th>\n",
              "      <th>gordura_intralesional</th>\n",
              "      <th>invasao_macrovascular</th>\n",
              "      <th>lirads</th>\n",
              "      <th>paciente_id</th>\n",
              "    </tr>\n",
              "  </thead>\n",
              "  <tbody>\n",
              "    <tr>\n",
              "      <th>0</th>\n",
              "      <td>66.0</td>\n",
              "      <td>S</td>\n",
              "      <td>S4</td>\n",
              "      <td>1.9</td>\n",
              "      <td>N</td>\n",
              "      <td>35</td>\n",
              "      <td>47</td>\n",
              "      <td>50</td>\n",
              "      <td>48.5</td>\n",
              "      <td>S</td>\n",
              "      <td>85.0</td>\n",
              "      <td>49.0</td>\n",
              "      <td>53.0</td>\n",
              "      <td>51.0</td>\n",
              "      <td>250.0</td>\n",
              "      <td>N</td>\n",
              "      <td>76.0</td>\n",
              "      <td>74.0</td>\n",
              "      <td>82.0</td>\n",
              "      <td>78.0</td>\n",
              "      <td>S</td>\n",
              "      <td>56.0</td>\n",
              "      <td>61.0</td>\n",
              "      <td>64.0</td>\n",
              "      <td>62.5</td>\n",
              "      <td>N</td>\n",
              "      <td>N</td>\n",
              "      <td>N</td>\n",
              "      <td>5.0</td>\n",
              "      <td>88</td>\n",
              "    </tr>\n",
              "    <tr>\n",
              "      <th>1</th>\n",
              "      <td>66.0</td>\n",
              "      <td>S</td>\n",
              "      <td>S7</td>\n",
              "      <td>3.5</td>\n",
              "      <td>N</td>\n",
              "      <td>24</td>\n",
              "      <td>40</td>\n",
              "      <td>48</td>\n",
              "      <td>44</td>\n",
              "      <td>N</td>\n",
              "      <td>49.0</td>\n",
              "      <td>41.0</td>\n",
              "      <td>49.0</td>\n",
              "      <td>45.0</td>\n",
              "      <td>238.0</td>\n",
              "      <td>S</td>\n",
              "      <td>47.0</td>\n",
              "      <td>68.0</td>\n",
              "      <td>72.0</td>\n",
              "      <td>70.0</td>\n",
              "      <td>S</td>\n",
              "      <td>46.0</td>\n",
              "      <td>64.0</td>\n",
              "      <td>59.0</td>\n",
              "      <td>61.5</td>\n",
              "      <td>N</td>\n",
              "      <td>N</td>\n",
              "      <td>N</td>\n",
              "      <td>4.0</td>\n",
              "      <td>88</td>\n",
              "    </tr>\n",
              "    <tr>\n",
              "      <th>2</th>\n",
              "      <td>66.0</td>\n",
              "      <td>S</td>\n",
              "      <td>S8</td>\n",
              "      <td>1.7</td>\n",
              "      <td>N</td>\n",
              "      <td>34</td>\n",
              "      <td>47</td>\n",
              "      <td>50</td>\n",
              "      <td>48.5</td>\n",
              "      <td>S</td>\n",
              "      <td>73.0</td>\n",
              "      <td>49.0</td>\n",
              "      <td>53.0</td>\n",
              "      <td>51.0</td>\n",
              "      <td>262.0</td>\n",
              "      <td>S</td>\n",
              "      <td>60.0</td>\n",
              "      <td>75.0</td>\n",
              "      <td>70.0</td>\n",
              "      <td>72.5</td>\n",
              "      <td>S</td>\n",
              "      <td>47.0</td>\n",
              "      <td>58.0</td>\n",
              "      <td>61.0</td>\n",
              "      <td>59.5</td>\n",
              "      <td>N</td>\n",
              "      <td>N</td>\n",
              "      <td>N</td>\n",
              "      <td>5.0</td>\n",
              "      <td>88</td>\n",
              "    </tr>\n",
              "    <tr>\n",
              "      <th>3</th>\n",
              "      <td>325.0</td>\n",
              "      <td>S</td>\n",
              "      <td>S7</td>\n",
              "      <td>3.9</td>\n",
              "      <td>N</td>\n",
              "      <td>52</td>\n",
              "      <td>50</td>\n",
              "      <td>45</td>\n",
              "      <td>47.5</td>\n",
              "      <td>S</td>\n",
              "      <td>70.0</td>\n",
              "      <td>53.0</td>\n",
              "      <td>60.0</td>\n",
              "      <td>56.5</td>\n",
              "      <td>347.0</td>\n",
              "      <td>N</td>\n",
              "      <td>95.0</td>\n",
              "      <td>63.0</td>\n",
              "      <td>63.0</td>\n",
              "      <td>63.0</td>\n",
              "      <td>S</td>\n",
              "      <td>63.0</td>\n",
              "      <td>73.0</td>\n",
              "      <td>75.0</td>\n",
              "      <td>74.0</td>\n",
              "      <td>S</td>\n",
              "      <td>N</td>\n",
              "      <td>N</td>\n",
              "      <td>5.0</td>\n",
              "      <td>131</td>\n",
              "    </tr>\n",
              "    <tr>\n",
              "      <th>4</th>\n",
              "      <td>325.0</td>\n",
              "      <td>S</td>\n",
              "      <td>S8</td>\n",
              "      <td>2.3</td>\n",
              "      <td>N</td>\n",
              "      <td>46</td>\n",
              "      <td>50</td>\n",
              "      <td>54</td>\n",
              "      <td>52</td>\n",
              "      <td>N</td>\n",
              "      <td>47.0</td>\n",
              "      <td>53.0</td>\n",
              "      <td>60.0</td>\n",
              "      <td>56.5</td>\n",
              "      <td>347.0</td>\n",
              "      <td>S</td>\n",
              "      <td>67.0</td>\n",
              "      <td>63.0</td>\n",
              "      <td>63.0</td>\n",
              "      <td>63.0</td>\n",
              "      <td>S</td>\n",
              "      <td>64.0</td>\n",
              "      <td>73.0</td>\n",
              "      <td>75.0</td>\n",
              "      <td>74.0</td>\n",
              "      <td>S</td>\n",
              "      <td>N</td>\n",
              "      <td>N</td>\n",
              "      <td>4.0</td>\n",
              "      <td>131</td>\n",
              "    </tr>\n",
              "  </tbody>\n",
              "</table>\n",
              "</div>"
            ],
            "text/plain": [
              "   delta_tc_tx_dias tec_tc loc_nod  ...  invasao_macrovascular lirads paciente_id\n",
              "0              66.0      S      S4  ...                      N    5.0          88\n",
              "1              66.0      S      S7  ...                      N    4.0          88\n",
              "2              66.0      S      S8  ...                      N    5.0          88\n",
              "3             325.0      S      S7  ...                      N    5.0         131\n",
              "4             325.0      S      S8  ...                      N    4.0         131\n",
              "\n",
              "[5 rows x 30 columns]"
            ]
          },
          "metadata": {
            "tags": []
          },
          "execution_count": 22
        }
      ]
    },
    {
      "cell_type": "code",
      "metadata": {
        "colab": {
          "base_uri": "https://localhost:8080/",
          "height": 292
        },
        "id": "MOFGA-yTb9a6",
        "outputId": "e803f3ab-210b-4185-d63b-33bdf4684a87"
      },
      "source": [
        "s2.head()"
      ],
      "execution_count": null,
      "outputs": [
        {
          "output_type": "execute_result",
          "data": {
            "text/html": [
              "<div>\n",
              "<style scoped>\n",
              "    .dataframe tbody tr th:only-of-type {\n",
              "        vertical-align: middle;\n",
              "    }\n",
              "\n",
              "    .dataframe tbody tr th {\n",
              "        vertical-align: top;\n",
              "    }\n",
              "\n",
              "    .dataframe thead th {\n",
              "        text-align: right;\n",
              "    }\n",
              "</style>\n",
              "<table border=\"1\" class=\"dataframe\">\n",
              "  <thead>\n",
              "    <tr style=\"text-align: right;\">\n",
              "      <th></th>\n",
              "      <th>num_nod</th>\n",
              "      <th>delta_tc_tx_dias</th>\n",
              "      <th>tec_tc</th>\n",
              "      <th>loc_nod</th>\n",
              "      <th>tam_nod_tc_cm</th>\n",
              "      <th>pre_contraste_hiperatenuante</th>\n",
              "      <th>roi_nod_pre_contraste</th>\n",
              "      <th>roi_1_parenquina_adj_pre_contraste</th>\n",
              "      <th>roi_2_parenquina_adj_pre_contraste</th>\n",
              "      <th>aten_med_paranq_pre_cont</th>\n",
              "      <th>hipervascularizacao_arterial</th>\n",
              "      <th>roi_nod_arterial</th>\n",
              "      <th>roi_1_parenquina_adj_arterial</th>\n",
              "      <th>roi_2_parenquina_adj_arterial</th>\n",
              "      <th>aten_med_paranq_arterial</th>\n",
              "      <th>roi_aorta_arterial</th>\n",
              "      <th>washout_portal</th>\n",
              "      <th>roi_nod_portal</th>\n",
              "      <th>roi_1_parenquina_adj_porta</th>\n",
              "      <th>roi_2_parenquina_adj_porta</th>\n",
              "      <th>aten_med_paranq_adj_porta</th>\n",
              "      <th>washout_equi</th>\n",
              "      <th>roi_nod_equi</th>\n",
              "      <th>roi_1_parenquina_adj_equi</th>\n",
              "      <th>roi_2_parenquina_adj_equi</th>\n",
              "      <th>aten_med_paranq_equi</th>\n",
              "      <th>pseudocapsula</th>\n",
              "      <th>gordura_intralesional</th>\n",
              "      <th>invasao_macrovascular</th>\n",
              "      <th>lirads</th>\n",
              "      <th>par_portal</th>\n",
              "      <th>par_equi</th>\n",
              "      <th>ac_arterial</th>\n",
              "      <th>ac_portal</th>\n",
              "      <th>ac_equi</th>\n",
              "      <th>rwr_portal</th>\n",
              "      <th>rwr_equi</th>\n",
              "      <th>aef</th>\n",
              "      <th>tam_nod_ap_cm</th>\n",
              "      <th>invasao_microvascular</th>\n",
              "      <th>grau_histologico</th>\n",
              "      <th>chc_tipo</th>\n",
              "      <th>paciente_id</th>\n",
              "    </tr>\n",
              "  </thead>\n",
              "  <tbody>\n",
              "    <tr>\n",
              "      <th>0</th>\n",
              "      <td>N1</td>\n",
              "      <td>66.0</td>\n",
              "      <td>S</td>\n",
              "      <td>S4</td>\n",
              "      <td>1.9</td>\n",
              "      <td>N</td>\n",
              "      <td>35</td>\n",
              "      <td>47</td>\n",
              "      <td>50</td>\n",
              "      <td>48.5</td>\n",
              "      <td>S</td>\n",
              "      <td>85.0</td>\n",
              "      <td>49.0</td>\n",
              "      <td>53.0</td>\n",
              "      <td>51.0</td>\n",
              "      <td>250.0</td>\n",
              "      <td>N</td>\n",
              "      <td>76.0</td>\n",
              "      <td>74.0</td>\n",
              "      <td>82.0</td>\n",
              "      <td>78.0</td>\n",
              "      <td>S</td>\n",
              "      <td>56.0</td>\n",
              "      <td>61.0</td>\n",
              "      <td>64.0</td>\n",
              "      <td>62.5</td>\n",
              "      <td>N</td>\n",
              "      <td>N</td>\n",
              "      <td>N</td>\n",
              "      <td>5.0</td>\n",
              "      <td>102.6</td>\n",
              "      <td>111.6</td>\n",
              "      <td>34.0</td>\n",
              "      <td>2.0</td>\n",
              "      <td>6.5</td>\n",
              "      <td>10.6</td>\n",
              "      <td>34.1</td>\n",
              "      <td>238.1</td>\n",
              "      <td>3.0</td>\n",
              "      <td>presente</td>\n",
              "      <td>2</td>\n",
              "      <td>não informado</td>\n",
              "      <td>88</td>\n",
              "    </tr>\n",
              "    <tr>\n",
              "      <th>1</th>\n",
              "      <td>N2</td>\n",
              "      <td>66.0</td>\n",
              "      <td>S</td>\n",
              "      <td>S7</td>\n",
              "      <td>3.5</td>\n",
              "      <td>N</td>\n",
              "      <td>24</td>\n",
              "      <td>40</td>\n",
              "      <td>48</td>\n",
              "      <td>44</td>\n",
              "      <td>N</td>\n",
              "      <td>49.0</td>\n",
              "      <td>41.0</td>\n",
              "      <td>49.0</td>\n",
              "      <td>45.0</td>\n",
              "      <td>238.0</td>\n",
              "      <td>S</td>\n",
              "      <td>47.0</td>\n",
              "      <td>68.0</td>\n",
              "      <td>72.0</td>\n",
              "      <td>70.0</td>\n",
              "      <td>S</td>\n",
              "      <td>46.0</td>\n",
              "      <td>64.0</td>\n",
              "      <td>59.0</td>\n",
              "      <td>61.5</td>\n",
              "      <td>N</td>\n",
              "      <td>N</td>\n",
              "      <td>N</td>\n",
              "      <td>4.0</td>\n",
              "      <td>148.9</td>\n",
              "      <td>133.7</td>\n",
              "      <td>4.0</td>\n",
              "      <td>23.0</td>\n",
              "      <td>15.5</td>\n",
              "      <td>4.1</td>\n",
              "      <td>6.1</td>\n",
              "      <td>113.6</td>\n",
              "      <td>3.6</td>\n",
              "      <td>presente</td>\n",
              "      <td>3</td>\n",
              "      <td>não informado</td>\n",
              "      <td>88</td>\n",
              "    </tr>\n",
              "    <tr>\n",
              "      <th>2</th>\n",
              "      <td>N3</td>\n",
              "      <td>66.0</td>\n",
              "      <td>S</td>\n",
              "      <td>S8</td>\n",
              "      <td>1.7</td>\n",
              "      <td>N</td>\n",
              "      <td>34</td>\n",
              "      <td>47</td>\n",
              "      <td>50</td>\n",
              "      <td>48.5</td>\n",
              "      <td>S</td>\n",
              "      <td>73.0</td>\n",
              "      <td>49.0</td>\n",
              "      <td>53.0</td>\n",
              "      <td>51.0</td>\n",
              "      <td>262.0</td>\n",
              "      <td>S</td>\n",
              "      <td>60.0</td>\n",
              "      <td>75.0</td>\n",
              "      <td>70.0</td>\n",
              "      <td>72.5</td>\n",
              "      <td>S</td>\n",
              "      <td>47.0</td>\n",
              "      <td>58.0</td>\n",
              "      <td>61.0</td>\n",
              "      <td>59.5</td>\n",
              "      <td>N</td>\n",
              "      <td>N</td>\n",
              "      <td>N</td>\n",
              "      <td>5.0</td>\n",
              "      <td>120.8</td>\n",
              "      <td>126.6</td>\n",
              "      <td>22.0</td>\n",
              "      <td>12.5</td>\n",
              "      <td>12.5</td>\n",
              "      <td>17.8</td>\n",
              "      <td>35.6</td>\n",
              "      <td>300.0</td>\n",
              "      <td>0.8</td>\n",
              "      <td>ausente</td>\n",
              "      <td>2</td>\n",
              "      <td>não informado</td>\n",
              "      <td>88</td>\n",
              "    </tr>\n",
              "    <tr>\n",
              "      <th>3</th>\n",
              "      <td>N4</td>\n",
              "      <td>170.0</td>\n",
              "      <td>S</td>\n",
              "      <td>S8</td>\n",
              "      <td>2.1</td>\n",
              "      <td>N</td>\n",
              "      <td>18</td>\n",
              "      <td>39</td>\n",
              "      <td>44</td>\n",
              "      <td>41.5</td>\n",
              "      <td>S</td>\n",
              "      <td>33.0</td>\n",
              "      <td>45.0</td>\n",
              "      <td>48.0</td>\n",
              "      <td>46.5</td>\n",
              "      <td>238.0</td>\n",
              "      <td>S</td>\n",
              "      <td>61.0</td>\n",
              "      <td>70.0</td>\n",
              "      <td>77.0</td>\n",
              "      <td>73.5</td>\n",
              "      <td>S</td>\n",
              "      <td>39.0</td>\n",
              "      <td>66.0</td>\n",
              "      <td>68.0</td>\n",
              "      <td>67.0</td>\n",
              "      <td>S</td>\n",
              "      <td>N</td>\n",
              "      <td>N</td>\n",
              "      <td>5.0</td>\n",
              "      <td>120.5</td>\n",
              "      <td>171.8</td>\n",
              "      <td>-13.5</td>\n",
              "      <td>12.5</td>\n",
              "      <td>28.0</td>\n",
              "      <td>-84.8</td>\n",
              "      <td>-18.2</td>\n",
              "      <td>71.4</td>\n",
              "      <td>3.9</td>\n",
              "      <td>presente</td>\n",
              "      <td>não informado</td>\n",
              "      <td>bem diferenciado</td>\n",
              "      <td>6</td>\n",
              "    </tr>\n",
              "    <tr>\n",
              "      <th>4</th>\n",
              "      <td>N5</td>\n",
              "      <td>170.0</td>\n",
              "      <td>S</td>\n",
              "      <td>S7</td>\n",
              "      <td>1.6</td>\n",
              "      <td>N</td>\n",
              "      <td>22</td>\n",
              "      <td>39</td>\n",
              "      <td>44</td>\n",
              "      <td>41.5</td>\n",
              "      <td>S</td>\n",
              "      <td>58.0</td>\n",
              "      <td>45.0</td>\n",
              "      <td>48.0</td>\n",
              "      <td>46.5</td>\n",
              "      <td>238.0</td>\n",
              "      <td>S</td>\n",
              "      <td>50.0</td>\n",
              "      <td>70.0</td>\n",
              "      <td>77.0</td>\n",
              "      <td>73.5</td>\n",
              "      <td>S</td>\n",
              "      <td>38.0</td>\n",
              "      <td>66.0</td>\n",
              "      <td>68.0</td>\n",
              "      <td>67.0</td>\n",
              "      <td>S</td>\n",
              "      <td>N</td>\n",
              "      <td>N</td>\n",
              "      <td>5.0</td>\n",
              "      <td>147.0</td>\n",
              "      <td>176.3</td>\n",
              "      <td>11.5</td>\n",
              "      <td>23.5</td>\n",
              "      <td>29.0</td>\n",
              "      <td>13.8</td>\n",
              "      <td>34.5</td>\n",
              "      <td>225.0</td>\n",
              "      <td>não descrito</td>\n",
              "      <td>NaN</td>\n",
              "      <td>NaN</td>\n",
              "      <td>NaN</td>\n",
              "      <td>6</td>\n",
              "    </tr>\n",
              "  </tbody>\n",
              "</table>\n",
              "</div>"
            ],
            "text/plain": [
              "  num_nod  delta_tc_tx_dias  ...          chc_tipo paciente_id\n",
              "0      N1              66.0  ...     não informado          88\n",
              "1      N2              66.0  ...     não informado          88\n",
              "2      N3              66.0  ...     não informado          88\n",
              "3      N4             170.0  ...  bem diferenciado           6\n",
              "4      N5             170.0  ...               NaN           6\n",
              "\n",
              "[5 rows x 43 columns]"
            ]
          },
          "metadata": {
            "tags": []
          },
          "execution_count": 23
        }
      ]
    },
    {
      "cell_type": "code",
      "metadata": {
        "colab": {
          "base_uri": "https://localhost:8080/",
          "height": 224
        },
        "id": "9267gn4xb9Tq",
        "outputId": "92f0c9e5-c2a0-41dc-d73e-d036d78d24ea"
      },
      "source": [
        "s3.head()"
      ],
      "execution_count": null,
      "outputs": [
        {
          "output_type": "execute_result",
          "data": {
            "text/html": [
              "<div>\n",
              "<style scoped>\n",
              "    .dataframe tbody tr th:only-of-type {\n",
              "        vertical-align: middle;\n",
              "    }\n",
              "\n",
              "    .dataframe tbody tr th {\n",
              "        vertical-align: top;\n",
              "    }\n",
              "\n",
              "    .dataframe thead th {\n",
              "        text-align: right;\n",
              "    }\n",
              "</style>\n",
              "<table border=\"1\" class=\"dataframe\">\n",
              "  <thead>\n",
              "    <tr style=\"text-align: right;\">\n",
              "      <th></th>\n",
              "      <th>num_nod</th>\n",
              "      <th>tam_nod_tc_cm</th>\n",
              "      <th>par_portal</th>\n",
              "      <th>par_equi</th>\n",
              "      <th>ac_portal</th>\n",
              "      <th>ac_equi</th>\n",
              "      <th>rwr_portal</th>\n",
              "      <th>rwr_equi</th>\n",
              "      <th>aef</th>\n",
              "      <th>invasao_microvascular</th>\n",
              "      <th>paciente_id</th>\n",
              "    </tr>\n",
              "  </thead>\n",
              "  <tbody>\n",
              "    <tr>\n",
              "      <th>0</th>\n",
              "      <td>N1</td>\n",
              "      <td>1.9</td>\n",
              "      <td>102.6</td>\n",
              "      <td>111.6</td>\n",
              "      <td>2.0</td>\n",
              "      <td>6.5</td>\n",
              "      <td>10.6</td>\n",
              "      <td>34.1</td>\n",
              "      <td>238.1</td>\n",
              "      <td>presente</td>\n",
              "      <td>88</td>\n",
              "    </tr>\n",
              "    <tr>\n",
              "      <th>1</th>\n",
              "      <td>N2</td>\n",
              "      <td>3.5</td>\n",
              "      <td>148.9</td>\n",
              "      <td>133.7</td>\n",
              "      <td>23.0</td>\n",
              "      <td>15.5</td>\n",
              "      <td>4.1</td>\n",
              "      <td>6.1</td>\n",
              "      <td>113.6</td>\n",
              "      <td>presente</td>\n",
              "      <td>88</td>\n",
              "    </tr>\n",
              "    <tr>\n",
              "      <th>2</th>\n",
              "      <td>N3</td>\n",
              "      <td>1.7</td>\n",
              "      <td>120.8</td>\n",
              "      <td>126.6</td>\n",
              "      <td>12.5</td>\n",
              "      <td>12.5</td>\n",
              "      <td>17.8</td>\n",
              "      <td>35.6</td>\n",
              "      <td>300.0</td>\n",
              "      <td>ausente</td>\n",
              "      <td>88</td>\n",
              "    </tr>\n",
              "    <tr>\n",
              "      <th>3</th>\n",
              "      <td>N72</td>\n",
              "      <td>2.1</td>\n",
              "      <td>120.5</td>\n",
              "      <td>171.8</td>\n",
              "      <td>12.5</td>\n",
              "      <td>28.0</td>\n",
              "      <td>-84.8</td>\n",
              "      <td>-18.2</td>\n",
              "      <td>71.4</td>\n",
              "      <td>presente</td>\n",
              "      <td>6</td>\n",
              "    </tr>\n",
              "    <tr>\n",
              "      <th>4</th>\n",
              "      <td>N74</td>\n",
              "      <td>4.1</td>\n",
              "      <td>175.0</td>\n",
              "      <td>131.4</td>\n",
              "      <td>31.5</td>\n",
              "      <td>16.0</td>\n",
              "      <td>27.6</td>\n",
              "      <td>12.1</td>\n",
              "      <td>135.0</td>\n",
              "      <td>ausente</td>\n",
              "      <td>6</td>\n",
              "    </tr>\n",
              "  </tbody>\n",
              "</table>\n",
              "</div>"
            ],
            "text/plain": [
              "  num_nod  tam_nod_tc_cm  par_portal  ...    aef  invasao_microvascular  paciente_id\n",
              "0      N1            1.9       102.6  ...  238.1               presente           88\n",
              "1      N2            3.5       148.9  ...  113.6               presente           88\n",
              "2      N3            1.7       120.8  ...  300.0                ausente           88\n",
              "3     N72            2.1       120.5  ...   71.4               presente            6\n",
              "4     N74            4.1       175.0  ...  135.0                ausente            6\n",
              "\n",
              "[5 rows x 11 columns]"
            ]
          },
          "metadata": {
            "tags": []
          },
          "execution_count": 24
        }
      ]
    },
    {
      "cell_type": "code",
      "metadata": {
        "colab": {
          "base_uri": "https://localhost:8080/",
          "height": 224
        },
        "id": "-s7JN8Aib9MT",
        "outputId": "963a020f-193a-4354-d33b-f79f0f9df958"
      },
      "source": [
        "s4.head()"
      ],
      "execution_count": null,
      "outputs": [
        {
          "output_type": "execute_result",
          "data": {
            "text/html": [
              "<div>\n",
              "<style scoped>\n",
              "    .dataframe tbody tr th:only-of-type {\n",
              "        vertical-align: middle;\n",
              "    }\n",
              "\n",
              "    .dataframe tbody tr th {\n",
              "        vertical-align: top;\n",
              "    }\n",
              "\n",
              "    .dataframe thead th {\n",
              "        text-align: right;\n",
              "    }\n",
              "</style>\n",
              "<table border=\"1\" class=\"dataframe\">\n",
              "  <thead>\n",
              "    <tr style=\"text-align: right;\">\n",
              "      <th></th>\n",
              "      <th>num_nod</th>\n",
              "      <th>delta_tc_tx_dias</th>\n",
              "      <th>loc_nod</th>\n",
              "      <th>tam_nod_tc_cm</th>\n",
              "      <th>par_portal</th>\n",
              "      <th>par_equi</th>\n",
              "      <th>ac_portal</th>\n",
              "      <th>ac_equi</th>\n",
              "      <th>rwr_portal</th>\n",
              "      <th>rwr_equi</th>\n",
              "      <th>aef</th>\n",
              "      <th>invasao_microvascular</th>\n",
              "      <th>grau_histologico</th>\n",
              "      <th>sexo</th>\n",
              "      <th>idade_tx_cx</th>\n",
              "      <th>causa_hepatopatia</th>\n",
              "      <th>recorrencia</th>\n",
              "      <th>obito</th>\n",
              "      <th>afp_pre</th>\n",
              "      <th>data_afp</th>\n",
              "      <th>paciente_id</th>\n",
              "    </tr>\n",
              "  </thead>\n",
              "  <tbody>\n",
              "    <tr>\n",
              "      <th>0</th>\n",
              "      <td>N1</td>\n",
              "      <td>66</td>\n",
              "      <td>S4</td>\n",
              "      <td>1.9</td>\n",
              "      <td>102.6</td>\n",
              "      <td>111.6</td>\n",
              "      <td>2.0</td>\n",
              "      <td>6.5</td>\n",
              "      <td>10.6</td>\n",
              "      <td>34.1</td>\n",
              "      <td>238.1</td>\n",
              "      <td>presente</td>\n",
              "      <td>2</td>\n",
              "      <td>M</td>\n",
              "      <td>61</td>\n",
              "      <td>VHC</td>\n",
              "      <td>NaN</td>\n",
              "      <td>NaN</td>\n",
              "      <td>NaN</td>\n",
              "      <td>NaN</td>\n",
              "      <td>88</td>\n",
              "    </tr>\n",
              "    <tr>\n",
              "      <th>1</th>\n",
              "      <td>N2</td>\n",
              "      <td>66</td>\n",
              "      <td>S7</td>\n",
              "      <td>3.5</td>\n",
              "      <td>148.9</td>\n",
              "      <td>133.7</td>\n",
              "      <td>23.0</td>\n",
              "      <td>15.5</td>\n",
              "      <td>4.1</td>\n",
              "      <td>6.1</td>\n",
              "      <td>113.6</td>\n",
              "      <td>presente</td>\n",
              "      <td>3</td>\n",
              "      <td>M</td>\n",
              "      <td>61</td>\n",
              "      <td>VHC</td>\n",
              "      <td>NaN</td>\n",
              "      <td>NaN</td>\n",
              "      <td>NaN</td>\n",
              "      <td>NaN</td>\n",
              "      <td>88</td>\n",
              "    </tr>\n",
              "    <tr>\n",
              "      <th>2</th>\n",
              "      <td>N3</td>\n",
              "      <td>66</td>\n",
              "      <td>S8</td>\n",
              "      <td>1.7</td>\n",
              "      <td>120.8</td>\n",
              "      <td>126.6</td>\n",
              "      <td>12.5</td>\n",
              "      <td>12.5</td>\n",
              "      <td>17.8</td>\n",
              "      <td>35.6</td>\n",
              "      <td>300.0</td>\n",
              "      <td>ausente</td>\n",
              "      <td>2</td>\n",
              "      <td>M</td>\n",
              "      <td>61</td>\n",
              "      <td>VHC</td>\n",
              "      <td>NaN</td>\n",
              "      <td>NaN</td>\n",
              "      <td>NaN</td>\n",
              "      <td>NaN</td>\n",
              "      <td>88</td>\n",
              "    </tr>\n",
              "    <tr>\n",
              "      <th>3</th>\n",
              "      <td>N4</td>\n",
              "      <td>170</td>\n",
              "      <td>S8</td>\n",
              "      <td>2.1</td>\n",
              "      <td>120.5</td>\n",
              "      <td>171.8</td>\n",
              "      <td>12.5</td>\n",
              "      <td>28.0</td>\n",
              "      <td>-84.8</td>\n",
              "      <td>-18.2</td>\n",
              "      <td>71.4</td>\n",
              "      <td>presente</td>\n",
              "      <td>não informado</td>\n",
              "      <td>F</td>\n",
              "      <td>36</td>\n",
              "      <td>CRIPTO</td>\n",
              "      <td>NaN</td>\n",
              "      <td>NaN</td>\n",
              "      <td>NaN</td>\n",
              "      <td>NaN</td>\n",
              "      <td>6</td>\n",
              "    </tr>\n",
              "    <tr>\n",
              "      <th>4</th>\n",
              "      <td>N6</td>\n",
              "      <td>170</td>\n",
              "      <td>S4/5</td>\n",
              "      <td>4.1</td>\n",
              "      <td>175.0</td>\n",
              "      <td>131.4</td>\n",
              "      <td>31.5</td>\n",
              "      <td>16.0</td>\n",
              "      <td>27.6</td>\n",
              "      <td>12.1</td>\n",
              "      <td>135.0</td>\n",
              "      <td>ausente</td>\n",
              "      <td>não informado</td>\n",
              "      <td>F</td>\n",
              "      <td>36</td>\n",
              "      <td>CRIPTO</td>\n",
              "      <td>NaN</td>\n",
              "      <td>NaN</td>\n",
              "      <td>NaN</td>\n",
              "      <td>NaN</td>\n",
              "      <td>6</td>\n",
              "    </tr>\n",
              "  </tbody>\n",
              "</table>\n",
              "</div>"
            ],
            "text/plain": [
              "  num_nod  delta_tc_tx_dias loc_nod  ...  afp_pre  data_afp  paciente_id\n",
              "0      N1                66      S4  ...      NaN       NaN           88\n",
              "1      N2                66      S7  ...      NaN       NaN           88\n",
              "2      N3                66      S8  ...      NaN       NaN           88\n",
              "3      N4               170      S8  ...      NaN       NaN            6\n",
              "4      N6               170    S4/5  ...      NaN       NaN            6\n",
              "\n",
              "[5 rows x 21 columns]"
            ]
          },
          "metadata": {
            "tags": []
          },
          "execution_count": 25
        }
      ]
    },
    {
      "cell_type": "code",
      "metadata": {
        "colab": {
          "base_uri": "https://localhost:8080/",
          "height": 224
        },
        "id": "-51Z3jg0b9EH",
        "outputId": "acfcda98-cb35-4a8f-c6d5-9a4b46dce256"
      },
      "source": [
        "s5.head()"
      ],
      "execution_count": null,
      "outputs": [
        {
          "output_type": "execute_result",
          "data": {
            "text/html": [
              "<div>\n",
              "<style scoped>\n",
              "    .dataframe tbody tr th:only-of-type {\n",
              "        vertical-align: middle;\n",
              "    }\n",
              "\n",
              "    .dataframe tbody tr th {\n",
              "        vertical-align: top;\n",
              "    }\n",
              "\n",
              "    .dataframe thead th {\n",
              "        text-align: right;\n",
              "    }\n",
              "</style>\n",
              "<table border=\"1\" class=\"dataframe\">\n",
              "  <thead>\n",
              "    <tr style=\"text-align: right;\">\n",
              "      <th></th>\n",
              "      <th>num_nod</th>\n",
              "      <th>delta_tc_tx_dias</th>\n",
              "      <th>loc_nod</th>\n",
              "      <th>tam_nod_tc_cm</th>\n",
              "      <th>par_portal</th>\n",
              "      <th>par_equi</th>\n",
              "      <th>ac_arterial</th>\n",
              "      <th>ac_portal</th>\n",
              "      <th>ac_equi</th>\n",
              "      <th>rwr_portal</th>\n",
              "      <th>rwr_equi</th>\n",
              "      <th>aef</th>\n",
              "      <th>invasao_microvascular</th>\n",
              "      <th>grau_histologico</th>\n",
              "      <th>sexo</th>\n",
              "      <th>idade_tx_cx</th>\n",
              "      <th>causa_hepatopatia</th>\n",
              "      <th>recorrencia</th>\n",
              "      <th>obito</th>\n",
              "      <th>afp_pre</th>\n",
              "      <th>data_afp</th>\n",
              "      <th>paciente_id</th>\n",
              "    </tr>\n",
              "  </thead>\n",
              "  <tbody>\n",
              "    <tr>\n",
              "      <th>0</th>\n",
              "      <td>N1</td>\n",
              "      <td>66</td>\n",
              "      <td>S4</td>\n",
              "      <td>1.9</td>\n",
              "      <td>102.6</td>\n",
              "      <td>111.6</td>\n",
              "      <td>34.0</td>\n",
              "      <td>2.0</td>\n",
              "      <td>6.5</td>\n",
              "      <td>10.6</td>\n",
              "      <td>34.1</td>\n",
              "      <td>238.1</td>\n",
              "      <td>presente</td>\n",
              "      <td>2</td>\n",
              "      <td>M</td>\n",
              "      <td>61</td>\n",
              "      <td>VHC</td>\n",
              "      <td>NaN</td>\n",
              "      <td>NaN</td>\n",
              "      <td>NaN</td>\n",
              "      <td>NaN</td>\n",
              "      <td>88</td>\n",
              "    </tr>\n",
              "    <tr>\n",
              "      <th>1</th>\n",
              "      <td>N2</td>\n",
              "      <td>66</td>\n",
              "      <td>S7</td>\n",
              "      <td>3.5</td>\n",
              "      <td>148.9</td>\n",
              "      <td>133.7</td>\n",
              "      <td>4.0</td>\n",
              "      <td>23.0</td>\n",
              "      <td>15.5</td>\n",
              "      <td>4.1</td>\n",
              "      <td>6.1</td>\n",
              "      <td>113.6</td>\n",
              "      <td>presente</td>\n",
              "      <td>3</td>\n",
              "      <td>M</td>\n",
              "      <td>61</td>\n",
              "      <td>VHC</td>\n",
              "      <td>NaN</td>\n",
              "      <td>NaN</td>\n",
              "      <td>NaN</td>\n",
              "      <td>NaN</td>\n",
              "      <td>88</td>\n",
              "    </tr>\n",
              "    <tr>\n",
              "      <th>2</th>\n",
              "      <td>N3</td>\n",
              "      <td>66</td>\n",
              "      <td>S8</td>\n",
              "      <td>1.7</td>\n",
              "      <td>120.8</td>\n",
              "      <td>126.6</td>\n",
              "      <td>22.0</td>\n",
              "      <td>12.5</td>\n",
              "      <td>12.5</td>\n",
              "      <td>17.8</td>\n",
              "      <td>35.6</td>\n",
              "      <td>300.0</td>\n",
              "      <td>ausente</td>\n",
              "      <td>2</td>\n",
              "      <td>M</td>\n",
              "      <td>61</td>\n",
              "      <td>VHC</td>\n",
              "      <td>NaN</td>\n",
              "      <td>NaN</td>\n",
              "      <td>NaN</td>\n",
              "      <td>NaN</td>\n",
              "      <td>88</td>\n",
              "    </tr>\n",
              "    <tr>\n",
              "      <th>3</th>\n",
              "      <td>N4</td>\n",
              "      <td>170</td>\n",
              "      <td>S8</td>\n",
              "      <td>2.1</td>\n",
              "      <td>120.5</td>\n",
              "      <td>171.8</td>\n",
              "      <td>-13.5</td>\n",
              "      <td>12.5</td>\n",
              "      <td>28.0</td>\n",
              "      <td>-84.8</td>\n",
              "      <td>-18.2</td>\n",
              "      <td>71.4</td>\n",
              "      <td>presente</td>\n",
              "      <td>não informado</td>\n",
              "      <td>F</td>\n",
              "      <td>36</td>\n",
              "      <td>CRIPTO</td>\n",
              "      <td>NaN</td>\n",
              "      <td>NaN</td>\n",
              "      <td>NaN</td>\n",
              "      <td>NaN</td>\n",
              "      <td>6</td>\n",
              "    </tr>\n",
              "    <tr>\n",
              "      <th>4</th>\n",
              "      <td>N6</td>\n",
              "      <td>170</td>\n",
              "      <td>S4/5</td>\n",
              "      <td>4.1</td>\n",
              "      <td>175.0</td>\n",
              "      <td>131.4</td>\n",
              "      <td>11.5</td>\n",
              "      <td>31.5</td>\n",
              "      <td>16.0</td>\n",
              "      <td>27.6</td>\n",
              "      <td>12.1</td>\n",
              "      <td>135.0</td>\n",
              "      <td>ausente</td>\n",
              "      <td>não informado</td>\n",
              "      <td>F</td>\n",
              "      <td>36</td>\n",
              "      <td>CRIPTO</td>\n",
              "      <td>NaN</td>\n",
              "      <td>NaN</td>\n",
              "      <td>NaN</td>\n",
              "      <td>NaN</td>\n",
              "      <td>6</td>\n",
              "    </tr>\n",
              "  </tbody>\n",
              "</table>\n",
              "</div>"
            ],
            "text/plain": [
              "  num_nod  delta_tc_tx_dias loc_nod  ...  afp_pre  data_afp  paciente_id\n",
              "0      N1                66      S4  ...      NaN       NaN           88\n",
              "1      N2                66      S7  ...      NaN       NaN           88\n",
              "2      N3                66      S8  ...      NaN       NaN           88\n",
              "3      N4               170      S8  ...      NaN       NaN            6\n",
              "4      N6               170    S4/5  ...      NaN       NaN            6\n",
              "\n",
              "[5 rows x 22 columns]"
            ]
          },
          "metadata": {
            "tags": []
          },
          "execution_count": 26
        }
      ]
    },
    {
      "cell_type": "code",
      "metadata": {
        "colab": {
          "base_uri": "https://localhost:8080/",
          "height": 224
        },
        "id": "xrT6szpgb89J",
        "outputId": "0544b268-f059-4678-d1ff-e355dc5e9f99"
      },
      "source": [
        "s6.head()"
      ],
      "execution_count": null,
      "outputs": [
        {
          "output_type": "execute_result",
          "data": {
            "text/html": [
              "<div>\n",
              "<style scoped>\n",
              "    .dataframe tbody tr th:only-of-type {\n",
              "        vertical-align: middle;\n",
              "    }\n",
              "\n",
              "    .dataframe tbody tr th {\n",
              "        vertical-align: top;\n",
              "    }\n",
              "\n",
              "    .dataframe thead th {\n",
              "        text-align: right;\n",
              "    }\n",
              "</style>\n",
              "<table border=\"1\" class=\"dataframe\">\n",
              "  <thead>\n",
              "    <tr style=\"text-align: right;\">\n",
              "      <th></th>\n",
              "      <th>num_nod</th>\n",
              "      <th>delta_tc_tx_dias</th>\n",
              "      <th>loc_nod</th>\n",
              "      <th>tam_nod_tc_cm</th>\n",
              "      <th>par_portal</th>\n",
              "      <th>par_equi</th>\n",
              "      <th>ac_portal</th>\n",
              "      <th>ac_equi</th>\n",
              "      <th>rwr_portal</th>\n",
              "      <th>rwr_equi</th>\n",
              "      <th>aef</th>\n",
              "      <th>invasao_microvascular</th>\n",
              "      <th>grau_histologico</th>\n",
              "      <th>sexo</th>\n",
              "      <th>idade_tx_cx</th>\n",
              "      <th>causa_hepatopatia</th>\n",
              "      <th>recorrencia</th>\n",
              "      <th>obito</th>\n",
              "      <th>afp_pre</th>\n",
              "      <th>data_afp</th>\n",
              "      <th>paciente_id</th>\n",
              "    </tr>\n",
              "  </thead>\n",
              "  <tbody>\n",
              "    <tr>\n",
              "      <th>0</th>\n",
              "      <td>N1</td>\n",
              "      <td>66</td>\n",
              "      <td>S4</td>\n",
              "      <td>1.9</td>\n",
              "      <td>102.6</td>\n",
              "      <td>111.6</td>\n",
              "      <td>2.0</td>\n",
              "      <td>6.5</td>\n",
              "      <td>10.6</td>\n",
              "      <td>34.1</td>\n",
              "      <td>238.1</td>\n",
              "      <td>presente</td>\n",
              "      <td>2</td>\n",
              "      <td>M</td>\n",
              "      <td>61</td>\n",
              "      <td>VHC</td>\n",
              "      <td>NaN</td>\n",
              "      <td>NaN</td>\n",
              "      <td>NaN</td>\n",
              "      <td>NaN</td>\n",
              "      <td>88</td>\n",
              "    </tr>\n",
              "    <tr>\n",
              "      <th>1</th>\n",
              "      <td>N4</td>\n",
              "      <td>170</td>\n",
              "      <td>S8</td>\n",
              "      <td>2.1</td>\n",
              "      <td>120.5</td>\n",
              "      <td>171.8</td>\n",
              "      <td>12.5</td>\n",
              "      <td>28.0</td>\n",
              "      <td>-84.8</td>\n",
              "      <td>-18.2</td>\n",
              "      <td>71.4</td>\n",
              "      <td>presente</td>\n",
              "      <td>não informado</td>\n",
              "      <td>F</td>\n",
              "      <td>36</td>\n",
              "      <td>CRIPTO</td>\n",
              "      <td>NaN</td>\n",
              "      <td>NaN</td>\n",
              "      <td>NaN</td>\n",
              "      <td>NaN</td>\n",
              "      <td>6</td>\n",
              "    </tr>\n",
              "    <tr>\n",
              "      <th>2</th>\n",
              "      <td>N9</td>\n",
              "      <td>325</td>\n",
              "      <td>S7</td>\n",
              "      <td>3.9</td>\n",
              "      <td>66.3</td>\n",
              "      <td>117.5</td>\n",
              "      <td>-32.0</td>\n",
              "      <td>11.0</td>\n",
              "      <td>-35.7</td>\n",
              "      <td>10.0</td>\n",
              "      <td>163.6</td>\n",
              "      <td>ausente</td>\n",
              "      <td>2</td>\n",
              "      <td>M</td>\n",
              "      <td>70</td>\n",
              "      <td>VHC</td>\n",
              "      <td>NaN</td>\n",
              "      <td>NaN</td>\n",
              "      <td>NaN</td>\n",
              "      <td>NaN</td>\n",
              "      <td>131</td>\n",
              "    </tr>\n",
              "    <tr>\n",
              "      <th>3</th>\n",
              "      <td>N11</td>\n",
              "      <td>129</td>\n",
              "      <td>S3</td>\n",
              "      <td>1.6</td>\n",
              "      <td>89.9</td>\n",
              "      <td>116.7</td>\n",
              "      <td>-9.0</td>\n",
              "      <td>10.0</td>\n",
              "      <td>-12.7</td>\n",
              "      <td>24.1</td>\n",
              "      <td>165.5</td>\n",
              "      <td>ausente</td>\n",
              "      <td>1</td>\n",
              "      <td>M</td>\n",
              "      <td>61</td>\n",
              "      <td>OH</td>\n",
              "      <td>NaN</td>\n",
              "      <td>NaN</td>\n",
              "      <td>NaN</td>\n",
              "      <td>NaN</td>\n",
              "      <td>116</td>\n",
              "    </tr>\n",
              "    <tr>\n",
              "      <th>4</th>\n",
              "      <td>N12</td>\n",
              "      <td>45</td>\n",
              "      <td>S8</td>\n",
              "      <td>4.7</td>\n",
              "      <td>104.8</td>\n",
              "      <td>97.6</td>\n",
              "      <td>4.0</td>\n",
              "      <td>-1.5</td>\n",
              "      <td>-90.9</td>\n",
              "      <td>-43.2</td>\n",
              "      <td>9.5</td>\n",
              "      <td>ausente</td>\n",
              "      <td>3</td>\n",
              "      <td>M</td>\n",
              "      <td>59</td>\n",
              "      <td>VHC</td>\n",
              "      <td>NaN</td>\n",
              "      <td>NaN</td>\n",
              "      <td>NaN</td>\n",
              "      <td>NaN</td>\n",
              "      <td>124</td>\n",
              "    </tr>\n",
              "  </tbody>\n",
              "</table>\n",
              "</div>"
            ],
            "text/plain": [
              "  num_nod  delta_tc_tx_dias loc_nod  ...  afp_pre  data_afp  paciente_id\n",
              "0      N1                66      S4  ...      NaN       NaN           88\n",
              "1      N4               170      S8  ...      NaN       NaN            6\n",
              "2      N9               325      S7  ...      NaN       NaN          131\n",
              "3     N11               129      S3  ...      NaN       NaN          116\n",
              "4     N12                45      S8  ...      NaN       NaN          124\n",
              "\n",
              "[5 rows x 21 columns]"
            ]
          },
          "metadata": {
            "tags": []
          },
          "execution_count": 27
        }
      ]
    },
    {
      "cell_type": "code",
      "metadata": {
        "colab": {
          "base_uri": "https://localhost:8080/",
          "height": 204
        },
        "id": "ive0mpy6b81g",
        "outputId": "a00bd53f-69f0-4f71-dfee-0d12c5840fc7"
      },
      "source": [
        "s7.head()"
      ],
      "execution_count": null,
      "outputs": [
        {
          "output_type": "execute_result",
          "data": {
            "text/html": [
              "<div>\n",
              "<style scoped>\n",
              "    .dataframe tbody tr th:only-of-type {\n",
              "        vertical-align: middle;\n",
              "    }\n",
              "\n",
              "    .dataframe tbody tr th {\n",
              "        vertical-align: top;\n",
              "    }\n",
              "\n",
              "    .dataframe thead th {\n",
              "        text-align: right;\n",
              "    }\n",
              "</style>\n",
              "<table border=\"1\" class=\"dataframe\">\n",
              "  <thead>\n",
              "    <tr style=\"text-align: right;\">\n",
              "      <th></th>\n",
              "      <th>tam_nod_tc_cm</th>\n",
              "    </tr>\n",
              "  </thead>\n",
              "  <tbody>\n",
              "    <tr>\n",
              "      <th>0</th>\n",
              "      <td>1.9</td>\n",
              "    </tr>\n",
              "    <tr>\n",
              "      <th>1</th>\n",
              "      <td>3.5</td>\n",
              "    </tr>\n",
              "    <tr>\n",
              "      <th>2</th>\n",
              "      <td>1.7</td>\n",
              "    </tr>\n",
              "    <tr>\n",
              "      <th>3</th>\n",
              "      <td>2.1</td>\n",
              "    </tr>\n",
              "    <tr>\n",
              "      <th>4</th>\n",
              "      <td>4.1</td>\n",
              "    </tr>\n",
              "  </tbody>\n",
              "</table>\n",
              "</div>"
            ],
            "text/plain": [
              "   tam_nod_tc_cm\n",
              "0            1.9\n",
              "1            3.5\n",
              "2            1.7\n",
              "3            2.1\n",
              "4            4.1"
            ]
          },
          "metadata": {
            "tags": []
          },
          "execution_count": 28
        }
      ]
    },
    {
      "cell_type": "code",
      "metadata": {
        "colab": {
          "base_uri": "https://localhost:8080/",
          "height": 204
        },
        "id": "L56G1BB0b8tt",
        "outputId": "d8ea9bbd-dfa0-4c89-d12c-f450f5b6f013"
      },
      "source": [
        "s8.head()"
      ],
      "execution_count": null,
      "outputs": [
        {
          "output_type": "execute_result",
          "data": {
            "text/html": [
              "<div>\n",
              "<style scoped>\n",
              "    .dataframe tbody tr th:only-of-type {\n",
              "        vertical-align: middle;\n",
              "    }\n",
              "\n",
              "    .dataframe tbody tr th {\n",
              "        vertical-align: top;\n",
              "    }\n",
              "\n",
              "    .dataframe thead th {\n",
              "        text-align: right;\n",
              "    }\n",
              "</style>\n",
              "<table border=\"1\" class=\"dataframe\">\n",
              "  <thead>\n",
              "    <tr style=\"text-align: right;\">\n",
              "      <th></th>\n",
              "      <th>num_nod</th>\n",
              "      <th>num_lesoes</th>\n",
              "      <th>paciente_id</th>\n",
              "    </tr>\n",
              "  </thead>\n",
              "  <tbody>\n",
              "    <tr>\n",
              "      <th>0</th>\n",
              "      <td>N1</td>\n",
              "      <td>3</td>\n",
              "      <td>88</td>\n",
              "    </tr>\n",
              "    <tr>\n",
              "      <th>1</th>\n",
              "      <td>N4</td>\n",
              "      <td>5</td>\n",
              "      <td>6</td>\n",
              "    </tr>\n",
              "    <tr>\n",
              "      <th>2</th>\n",
              "      <td>N9</td>\n",
              "      <td>2</td>\n",
              "      <td>131</td>\n",
              "    </tr>\n",
              "    <tr>\n",
              "      <th>3</th>\n",
              "      <td>N11</td>\n",
              "      <td>1</td>\n",
              "      <td>116</td>\n",
              "    </tr>\n",
              "    <tr>\n",
              "      <th>4</th>\n",
              "      <td>N12</td>\n",
              "      <td>3</td>\n",
              "      <td>124</td>\n",
              "    </tr>\n",
              "  </tbody>\n",
              "</table>\n",
              "</div>"
            ],
            "text/plain": [
              "  num_nod  num_lesoes  paciente_id\n",
              "0      N1           3           88\n",
              "1      N4           5            6\n",
              "2      N9           2          131\n",
              "3     N11           1          116\n",
              "4     N12           3          124"
            ]
          },
          "metadata": {
            "tags": []
          },
          "execution_count": 29
        }
      ]
    },
    {
      "cell_type": "code",
      "metadata": {
        "colab": {
          "base_uri": "https://localhost:8080/",
          "height": 224
        },
        "id": "jCa_CrGhb8mN",
        "outputId": "f53c9a45-c253-42c4-81fa-05381e7f1f02"
      },
      "source": [
        "s9.head()"
      ],
      "execution_count": null,
      "outputs": [
        {
          "output_type": "execute_result",
          "data": {
            "text/html": [
              "<div>\n",
              "<style scoped>\n",
              "    .dataframe tbody tr th:only-of-type {\n",
              "        vertical-align: middle;\n",
              "    }\n",
              "\n",
              "    .dataframe tbody tr th {\n",
              "        vertical-align: top;\n",
              "    }\n",
              "\n",
              "    .dataframe thead th {\n",
              "        text-align: right;\n",
              "    }\n",
              "</style>\n",
              "<table border=\"1\" class=\"dataframe\">\n",
              "  <thead>\n",
              "    <tr style=\"text-align: right;\">\n",
              "      <th></th>\n",
              "      <th>hipervasc</th>\n",
              "      <th>washout_portal</th>\n",
              "      <th>washout_equi</th>\n",
              "      <th>roi_nod_arterial</th>\n",
              "      <th>aten_med_paranq_arterial</th>\n",
              "      <th>roi_nod_portal</th>\n",
              "      <th>aten_med_paranq_adj_porta</th>\n",
              "      <th>roi_nod_equi</th>\n",
              "      <th>aten_med_paranq_equi</th>\n",
              "    </tr>\n",
              "  </thead>\n",
              "  <tbody>\n",
              "    <tr>\n",
              "      <th>0</th>\n",
              "      <td>S</td>\n",
              "      <td>N</td>\n",
              "      <td>S</td>\n",
              "      <td>85</td>\n",
              "      <td>51.0</td>\n",
              "      <td>76</td>\n",
              "      <td>78.0</td>\n",
              "      <td>56</td>\n",
              "      <td>62.5</td>\n",
              "    </tr>\n",
              "    <tr>\n",
              "      <th>1</th>\n",
              "      <td>N</td>\n",
              "      <td>S</td>\n",
              "      <td>S</td>\n",
              "      <td>49</td>\n",
              "      <td>45.0</td>\n",
              "      <td>47</td>\n",
              "      <td>70.0</td>\n",
              "      <td>46</td>\n",
              "      <td>61.5</td>\n",
              "    </tr>\n",
              "    <tr>\n",
              "      <th>2</th>\n",
              "      <td>S</td>\n",
              "      <td>S</td>\n",
              "      <td>S</td>\n",
              "      <td>73</td>\n",
              "      <td>51.0</td>\n",
              "      <td>60</td>\n",
              "      <td>72.5</td>\n",
              "      <td>47</td>\n",
              "      <td>59.5</td>\n",
              "    </tr>\n",
              "    <tr>\n",
              "      <th>3</th>\n",
              "      <td>S</td>\n",
              "      <td>S</td>\n",
              "      <td>S</td>\n",
              "      <td>33</td>\n",
              "      <td>46.5</td>\n",
              "      <td>61</td>\n",
              "      <td>73.5</td>\n",
              "      <td>39</td>\n",
              "      <td>67.0</td>\n",
              "    </tr>\n",
              "    <tr>\n",
              "      <th>4</th>\n",
              "      <td>S</td>\n",
              "      <td>S</td>\n",
              "      <td>S</td>\n",
              "      <td>58</td>\n",
              "      <td>46.5</td>\n",
              "      <td>42</td>\n",
              "      <td>73.5</td>\n",
              "      <td>51</td>\n",
              "      <td>67.0</td>\n",
              "    </tr>\n",
              "  </tbody>\n",
              "</table>\n",
              "</div>"
            ],
            "text/plain": [
              "  hipervasc washout_portal  ... roi_nod_equi  aten_med_paranq_equi\n",
              "0         S              N  ...           56                  62.5\n",
              "1         N              S  ...           46                  61.5\n",
              "2         S              S  ...           47                  59.5\n",
              "3         S              S  ...           39                  67.0\n",
              "4         S              S  ...           51                  67.0\n",
              "\n",
              "[5 rows x 9 columns]"
            ]
          },
          "metadata": {
            "tags": []
          },
          "execution_count": 30
        }
      ]
    },
    {
      "cell_type": "markdown",
      "metadata": {
        "id": "e0SKSEuNdAw1"
      },
      "source": [
        "## Analisar dados faltantes"
      ]
    },
    {
      "cell_type": "code",
      "metadata": {
        "colab": {
          "base_uri": "https://localhost:8080/"
        },
        "id": "Anq1dYxodAbV",
        "outputId": "915d8bce-8f46-4a47-8df4-5e7845fdaa0d"
      },
      "source": [
        "# Dados faltantes em todas as linhas da coluna\n",
        "cnt = 0\n",
        "print('Colunas onde todos os dados estão faltando')\n",
        "for dataset in all_datasets:\n",
        "  cnt += 1\n",
        "  missing_data = dataset.columns[dataset.isna().all()]\n",
        "  if not missing_data.empty:\n",
        "    print('s' + str(cnt) + '.csv:', *missing_data, sep='\\n- ')"
      ],
      "execution_count": null,
      "outputs": [
        {
          "output_type": "stream",
          "text": [
            "Colunas onde todos os dados estão faltando\n",
            "s4.csv:\n",
            "- recorrencia\n",
            "- obito\n",
            "- afp_pre\n",
            "- data_afp\n",
            "s5.csv:\n",
            "- recorrencia\n",
            "- obito\n",
            "- afp_pre\n",
            "- data_afp\n",
            "s6.csv:\n",
            "- recorrencia\n",
            "- obito\n",
            "- afp_pre\n",
            "- data_afp\n"
          ],
          "name": "stdout"
        }
      ]
    },
    {
      "cell_type": "code",
      "metadata": {
        "id": "H6gha5c8dVAA"
      },
      "source": [
        "# Remover colunas onde todos os valores são nulos\n",
        "for dataset in all_datasets:\n",
        "  dataset.dropna(axis=1, how='all', inplace=True)"
      ],
      "execution_count": null,
      "outputs": []
    },
    {
      "cell_type": "markdown",
      "metadata": {
        "id": "xcXClXXkeVAY"
      },
      "source": [
        "## Mapeando valores categóricos"
      ]
    },
    {
      "cell_type": "code",
      "metadata": {
        "id": "JMmpDe1ceJyp"
      },
      "source": [
        "# Alterando dados de , para .\n",
        "\n",
        "# dataset.tam_nod_tc_cm = dataset.tam_nod_tc_cm.str.replace(',','.').astype(float)\n",
        "# dataset.par_portal = dataset.par_portal.str.replace(',','.').astype(float)\n",
        "# dataset.par_equi = dataset.par_equi.str.replace(',','.').astype(float)\n",
        "# dataset.ac_arterial = dataset.ac_arterial.str.replace(',','.').astype(float)\n",
        "# dataset.ac_portal = dataset.ac_portal.str.replace(',','.').astype(float)\n",
        "# dataset.ac_equi = dataset.ac_equi.str.replace(',','.').astype(float)\n",
        "# dataset.rwr_portal = dataset.rwr_portal.str.replace(',','.').astype(float)\n",
        "# dataset.rwr_equi = dataset.rwr_equi.str.replace(',','.').astype(float)\n",
        "# dataset.aef = dataset.aef.str.replace(',','.').astype(float)"
      ],
      "execution_count": null,
      "outputs": []
    },
    {
      "cell_type": "code",
      "metadata": {
        "colab": {
          "base_uri": "https://localhost:8080/"
        },
        "id": "nZ4V8u3NeOKC",
        "outputId": "b761a9fa-cf68-4dc6-f1e2-a319e998189a"
      },
      "source": [
        "cnt = 0\n",
        "for dataset in all_datasets:\n",
        "  cnt += 1\n",
        "  try:\n",
        "    dataset.sexo = dataset.sexo.str.replace('M','0').replace('F', '1').astype(int)\n",
        "    dataset.invasao_microvascular = dataset.invasao_microvascular.str.replace('ausente','0').replace('presente', '1').astype(int)\n",
        "  except AttributeError as err:\n",
        "    print(\"s\" + str(cnt) + \".csv: \" + str(err))\n",
        "    continue"
      ],
      "execution_count": null,
      "outputs": [
        {
          "output_type": "stream",
          "text": [
            "s1.csv: 'DataFrame' object has no attribute 'sexo'\n",
            "s2.csv: 'DataFrame' object has no attribute 'sexo'\n",
            "s3.csv: 'DataFrame' object has no attribute 'sexo'\n",
            "s7.csv: 'DataFrame' object has no attribute 'sexo'\n",
            "s8.csv: 'DataFrame' object has no attribute 'sexo'\n",
            "s9.csv: 'DataFrame' object has no attribute 'sexo'\n"
          ],
          "name": "stdout"
        }
      ]
    },
    {
      "cell_type": "markdown",
      "metadata": {
        "id": "Xf9OnOZ6e-Nm"
      },
      "source": [
        "Mapeamento dos valores do grau histológico do paciente\n",
        "\n",
        "*   1 $\\implies 1$\n",
        "*   2 $\\implies 2$\n",
        "*   3 $\\implies 3$\n",
        "*   4 $\\implies 4$\n",
        "*   1, 2 $\\implies 5$\n",
        "*   1, 3 $\\implies 6$\n",
        "*   1, 4 $\\implies 7$\n",
        "*   2, 3 $\\implies 8$\n",
        "*   2, 4 $\\implies 9$\n",
        "*   3, 4 $\\implies 10$\n",
        "*   sem grau $\\implies 11$\n",
        "*   quimioembolização $\\implies 12$\n",
        "*   não informado $\\implies 44$\n",
        "*   nan $\\implies 44$"
      ]
    },
    {
      "cell_type": "code",
      "metadata": {
        "colab": {
          "base_uri": "https://localhost:8080/"
        },
        "id": "cwSkLuKTfClW",
        "outputId": "f8581edc-b0fe-4153-f588-80fc5e4538ad"
      },
      "source": [
        "cnt = 0\n",
        "for dataset in all_datasets:\n",
        "  cnt += 1\n",
        "  try:\n",
        "    dataset.grau_histologico = dataset.grau_histologico.replace('sem grau','11').replace('não informado', '44').replace(np.nan, '44')\n",
        "    dataset.grau_histologico = dataset.grau_histologico.replace('1 e 2', '5').replace('1 e 3', '6').replace('1 e 4', '7')\n",
        "    dataset.grau_histologico = dataset.grau_histologico.replace('2 e 3', '8').replace('2 e 4', '9').replace('3 e 4', '10')\n",
        "    dataset.grau_histologico = dataset.grau_histologico.replace('quimioembolização','12').astype(int)\n",
        "  except AttributeError as err:\n",
        "    print(\"s\" + str(cnt) + \".csv: \" + str(err))\n",
        "    continue\n",
        "  except ValueError as err:\n",
        "    print(\"s\" + str(cnt) + \".csv: \" + str(err))\n",
        "    continue\n",
        "  "
      ],
      "execution_count": null,
      "outputs": [
        {
          "output_type": "stream",
          "text": [
            "s1.csv: 'DataFrame' object has no attribute 'grau_histologico'\n",
            "s2.csv: invalid literal for int() with base 10: 'não se aplica'\n",
            "s3.csv: 'DataFrame' object has no attribute 'grau_histologico'\n",
            "s7.csv: 'DataFrame' object has no attribute 'grau_histologico'\n",
            "s8.csv: 'DataFrame' object has no attribute 'grau_histologico'\n",
            "s9.csv: 'DataFrame' object has no attribute 'grau_histologico'\n"
          ],
          "name": "stdout"
        }
      ]
    },
    {
      "cell_type": "markdown",
      "metadata": {
        "id": "aKwvy0I5f-lS"
      },
      "source": [
        "Mapeamento da causa hepatopatia da lesão\n",
        "\n",
        "*   CRIPTO $\\implies 1$\n",
        "*   OH $\\implies 2$\n",
        "*   OH + VHB $\\implies 3$\n",
        "*   OH + VHC $\\implies 4$\n",
        "*   VHB $\\implies 5$\n",
        "*   VHC $\\implies 6$\n",
        "*   VHC + OH $\\implies 7$\n",
        "*   VHC + VHB $\\implies 8$\n",
        "*   NaN $\\implies 44$"
      ]
    },
    {
      "cell_type": "code",
      "metadata": {
        "colab": {
          "base_uri": "https://localhost:8080/"
        },
        "id": "88REEpNKgBJm",
        "outputId": "1017e3cd-fb5d-4803-f04b-09f02036a5c0"
      },
      "source": [
        "cnt = 0\n",
        "for dataset in all_datasets:\n",
        "  cnt += 1\n",
        "  try:\n",
        "    dataset.causa_hepatopatia = dataset.causa_hepatopatia.replace(np.nan, '44')\n",
        "    dataset.causa_hepatopatia = dataset.causa_hepatopatia.replace('CRIPTO', '1').replace('OH', '2')\n",
        "    dataset.causa_hepatopatia = dataset.causa_hepatopatia.replace('OH + VHB', '3').replace('OH + VHC', '4')\n",
        "    dataset.causa_hepatopatia = dataset.causa_hepatopatia.replace('VHB', '5').replace('VHC', '6')\n",
        "    dataset.causa_hepatopatia = dataset.causa_hepatopatia.replace('VHC + OH', '7').replace('VHC + VHB', '8').astype(int)\n",
        "  except AttributeError as err:\n",
        "    print(\"s\" + str(cnt) + \".csv: \" + str(err))\n",
        "    continue"
      ],
      "execution_count": null,
      "outputs": [
        {
          "output_type": "stream",
          "text": [
            "s1.csv: 'DataFrame' object has no attribute 'causa_hepatopatia'\n",
            "s2.csv: 'DataFrame' object has no attribute 'causa_hepatopatia'\n",
            "s3.csv: 'DataFrame' object has no attribute 'causa_hepatopatia'\n",
            "s7.csv: 'DataFrame' object has no attribute 'causa_hepatopatia'\n",
            "s8.csv: 'DataFrame' object has no attribute 'causa_hepatopatia'\n",
            "s9.csv: 'DataFrame' object has no attribute 'causa_hepatopatia'\n"
          ],
          "name": "stdout"
        }
      ]
    },
    {
      "cell_type": "markdown",
      "metadata": {
        "id": "4NBVvn2cc4bl"
      },
      "source": [
        "## Salvando os Dados Pré-processados"
      ]
    },
    {
      "cell_type": "code",
      "metadata": {
        "id": "jVE3RxEOFy1Y"
      },
      "source": [
        "s1.to_csv(root+'s1.csv', index=False)\n",
        "s2.to_csv(root+'s2.csv', index=False)\n",
        "s3.to_csv(root+'s3.csv', index=False)\n",
        "s4.to_csv(root+'s4.csv', index=False)\n",
        "s5.to_csv(root+'s5.csv', index=False)\n",
        "s6.to_csv(root+'s6.csv', index=False)\n",
        "s7.to_csv(root+'s7.csv', index=False)\n",
        "s8.to_csv(root+'s8.csv', index=False)\n",
        "s9.to_csv(root+'s9.csv', index=False)"
      ],
      "execution_count": null,
      "outputs": []
    },
    {
      "cell_type": "markdown",
      "metadata": {
        "id": "xXnh7RSYV66k"
      },
      "source": [
        "## Renoveando diretórios"
      ]
    },
    {
      "cell_type": "code",
      "metadata": {
        "id": "thBz-gKr20iO"
      },
      "source": [
        "import os\n",
        "import pandas as pd\n",
        "import numpy as np\n",
        "from glob import glob\n",
        "import unidecode"
      ],
      "execution_count": null,
      "outputs": []
    },
    {
      "cell_type": "code",
      "metadata": {
        "id": "bWySuPnEhsdV"
      },
      "source": [
        "root_images =  'drive/Shareddrives/MO286 - Visualização de Dados/data_images/CASOS_CHC_FULL/*'\t\n",
        "root_csv =  'drive/Shareddrives/MO286 - Visualização de Dados/data_csv/'\n",
        "image_csv = 'drive/Shareddrives/MO286 - Visualização de Dados/data_csv/mapeamento_nomes.csv'\t\t"
      ],
      "execution_count": null,
      "outputs": []
    },
    {
      "cell_type": "code",
      "metadata": {
        "id": "T25SPNJa3G6p"
      },
      "source": [
        "dataset = pd.read_csv(root_csv+'s5.csv')\n",
        "mapping_names = pd.read_csv(image_csv)"
      ],
      "execution_count": null,
      "outputs": []
    },
    {
      "cell_type": "code",
      "metadata": {
        "id": "4pGwDhzessxz"
      },
      "source": [
        "def remove_accents(string):\n",
        "  return unidecode.unidecode(string)"
      ],
      "execution_count": null,
      "outputs": []
    },
    {
      "cell_type": "code",
      "metadata": {
        "id": "vYmbCJOdtBWS"
      },
      "source": [
        "def name_to_cat(name):\n",
        "  try:\n",
        "    return int(mapping_names.key[mapping_names.name == name])\n",
        "  except:\n",
        "    return 'exit'"
      ],
      "execution_count": null,
      "outputs": []
    },
    {
      "cell_type": "code",
      "metadata": {
        "id": "npMz4TjOQxla"
      },
      "source": [
        "# Rename folders\n",
        "\n",
        "name_backup = []\n",
        "\n",
        "img_root = 'drive/Shareddrives/MO286 - Visualização de Dados/data_images/CASOS_CHC_FULL/'\n",
        "\n",
        "img_folders = glob(root_images)\n",
        "\n",
        "for folder_name in img_folders:\n",
        "\n",
        "  path_ = os.path.dirname(folder_name)\n",
        "  name_ = os.path.basename(folder_name)\n",
        "  name = name_.strip().lower()\n",
        "  name = remove_accents(name)\n",
        "\n",
        "  name_to_code = name_to_cat(name)\n",
        "\n",
        "  if name_to_code == 'exit':   \n",
        "    continue\n",
        "\n",
        "  name_backup.append(folder_name)\n",
        "\n",
        "  os.rename(folder_name,  path_+'/'+str(name_to_code))"
      ],
      "execution_count": null,
      "outputs": []
    }
  ]
}