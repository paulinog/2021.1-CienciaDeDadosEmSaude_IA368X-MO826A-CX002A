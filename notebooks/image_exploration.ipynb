{
  "nbformat": 4,
  "nbformat_minor": 0,
  "metadata": {
    "colab": {
      "name": "image_exploration.ipynb",
      "provenance": [],
      "collapsed_sections": []
    },
    "kernelspec": {
      "name": "python3",
      "display_name": "Python 3"
    },
    "language_info": {
      "name": "python"
    }
  },
  "cells": [
    {
      "cell_type": "code",
      "metadata": {
        "colab": {
          "base_uri": "https://localhost:8080/"
        },
        "id": "P4d2VpOogxIA",
        "outputId": "65ba2a9c-713b-4bbd-c6e2-af9d54a3095d"
      },
      "source": [
        "from google.colab import drive\n",
        "drive.mount('/content/drive')"
      ],
      "execution_count": 1,
      "outputs": [
        {
          "output_type": "stream",
          "text": [
            "Mounted at /content/drive\n"
          ],
          "name": "stdout"
        }
      ]
    },
    {
      "cell_type": "code",
      "metadata": {
        "colab": {
          "base_uri": "https://localhost:8080/"
        },
        "id": "Gobz6_uktZO8",
        "outputId": "d5f8fd38-26a9-48eb-a198-58cc2641db67"
      },
      "source": [
        "!pip install unidecode"
      ],
      "execution_count": 2,
      "outputs": [
        {
          "output_type": "stream",
          "text": [
            "Collecting unidecode\n",
            "\u001b[?25l  Downloading https://files.pythonhosted.org/packages/9e/25/723487ca2a52ebcee88a34d7d1f5a4b80b793f179ee0f62d5371938dfa01/Unidecode-1.2.0-py2.py3-none-any.whl (241kB)\n",
            "\u001b[K     |████████████████████████████████| 245kB 4.3MB/s \n",
            "\u001b[?25hInstalling collected packages: unidecode\n",
            "Successfully installed unidecode-1.2.0\n"
          ],
          "name": "stdout"
        }
      ]
    },
    {
      "cell_type": "code",
      "metadata": {
        "id": "thBz-gKr20iO"
      },
      "source": [
        "import os\n",
        "import pandas as pd\n",
        "import numpy as np\n",
        "from glob import glob\n",
        "import unidecode"
      ],
      "execution_count": 14,
      "outputs": []
    },
    {
      "cell_type": "code",
      "metadata": {
        "id": "bWySuPnEhsdV"
      },
      "source": [
        "root_images =  'drive/Shareddrives/MO286 - Visualização de Dados/data_images/CASOS_CHC_FULL/*'\t\n",
        "root_csv =  'drive/Shareddrives/MO286 - Visualização de Dados/data_csv/'"
      ],
      "execution_count": 17,
      "outputs": []
    },
    {
      "cell_type": "code",
      "metadata": {
        "id": "bQH8yCIYZ7mq"
      },
      "source": [
        "def to_int(string):\n",
        "  try:\n",
        "    return int(string)\n",
        "  except:\n",
        "    return string"
      ],
      "execution_count": 28,
      "outputs": []
    },
    {
      "cell_type": "code",
      "metadata": {
        "id": "T25SPNJa3G6p"
      },
      "source": [
        "dataset = pd.read_csv(root_csv+'s5.csv')\n",
        "\n",
        "images_path = glob(root_images)\n",
        "\n",
        "folder_names = [to_int(os.path.basename(folder_path)) for folder_path in images_path]"
      ],
      "execution_count": 31,
      "outputs": []
    },
    {
      "cell_type": "code",
      "metadata": {
        "colab": {
          "base_uri": "https://localhost:8080/"
        },
        "id": "YYV56ZK_WpED",
        "outputId": "656dce24-b44b-4d05-90d9-b4f9efa65bfa"
      },
      "source": [
        "miss = np.unique(dataset.paciente_id[~dataset.paciente_id.isin(folder_names)])\n",
        "\n",
        "print('Exames faltantes: ', *miss, sep='\\n * ')"
      ],
      "execution_count": 33,
      "outputs": [
        {
          "output_type": "stream",
          "text": [
            "Exames faltantes: \n"
          ],
          "name": "stdout"
        }
      ]
    },
    {
      "cell_type": "code",
      "metadata": {
        "id": "Li0vtCjQaTjy"
      },
      "source": [
        "img_root = 'drive/Shareddrives/MO286 - Visualização de Dados/data_images/CASOS_CHC_FULL/'\n",
        "\n",
        "def get_img_qnt(folder):\n",
        "\n",
        "  p = []\n",
        "  s1 = []\n",
        "  s2 = []\n",
        "  s3 = []\n",
        "\n",
        "  img_folders = glob(folder)\n",
        "\n",
        "  for folder in img_folders:\n",
        "\n",
        "    p_id = os.path.basename(folder)\n",
        "\n",
        "    if to_int(p_id) not in dataset.paciente_id:\n",
        "      continue\n",
        "\n",
        "    p.append('p_'+p_id)\n",
        "\n",
        "    s1.append(len(glob(folder+'/series1/*.jpeg')))\n",
        "    s2.append(len(glob(folder+'/series2/*.jpeg')))\n",
        "    s3.append(len(glob(folder+'/series3/*.jpeg')))\n",
        "\n",
        "  return pd.DataFrame({'p':p, 's1':s1, 's2':s2, 's3':s3})\n",
        "\n",
        "qnt_p = get_img_qnt(root_images)"
      ],
      "execution_count": 51,
      "outputs": []
    },
    {
      "cell_type": "code",
      "metadata": {
        "colab": {
          "base_uri": "https://localhost:8080/",
          "height": 297
        },
        "id": "o_NNtra7zw0y",
        "outputId": "3ee876fe-f4fc-44c1-a909-0f9cd2e95063"
      },
      "source": [
        "qnt_p.describe()"
      ],
      "execution_count": 55,
      "outputs": [
        {
          "output_type": "execute_result",
          "data": {
            "text/html": [
              "<div>\n",
              "<style scoped>\n",
              "    .dataframe tbody tr th:only-of-type {\n",
              "        vertical-align: middle;\n",
              "    }\n",
              "\n",
              "    .dataframe tbody tr th {\n",
              "        vertical-align: top;\n",
              "    }\n",
              "\n",
              "    .dataframe thead th {\n",
              "        text-align: right;\n",
              "    }\n",
              "</style>\n",
              "<table border=\"1\" class=\"dataframe\">\n",
              "  <thead>\n",
              "    <tr style=\"text-align: right;\">\n",
              "      <th></th>\n",
              "      <th>s1</th>\n",
              "      <th>s2</th>\n",
              "      <th>s3</th>\n",
              "    </tr>\n",
              "  </thead>\n",
              "  <tbody>\n",
              "    <tr>\n",
              "      <th>count</th>\n",
              "      <td>127.000000</td>\n",
              "      <td>127.000000</td>\n",
              "      <td>127.000000</td>\n",
              "    </tr>\n",
              "    <tr>\n",
              "      <th>mean</th>\n",
              "      <td>98.110236</td>\n",
              "      <td>131.826772</td>\n",
              "      <td>175.023622</td>\n",
              "    </tr>\n",
              "    <tr>\n",
              "      <th>std</th>\n",
              "      <td>96.724714</td>\n",
              "      <td>70.368993</td>\n",
              "      <td>60.104600</td>\n",
              "    </tr>\n",
              "    <tr>\n",
              "      <th>min</th>\n",
              "      <td>2.000000</td>\n",
              "      <td>1.000000</td>\n",
              "      <td>1.000000</td>\n",
              "    </tr>\n",
              "    <tr>\n",
              "      <th>25%</th>\n",
              "      <td>2.000000</td>\n",
              "      <td>91.000000</td>\n",
              "      <td>143.000000</td>\n",
              "    </tr>\n",
              "    <tr>\n",
              "      <th>50%</th>\n",
              "      <td>88.000000</td>\n",
              "      <td>113.000000</td>\n",
              "      <td>161.000000</td>\n",
              "    </tr>\n",
              "    <tr>\n",
              "      <th>75%</th>\n",
              "      <td>124.500000</td>\n",
              "      <td>152.500000</td>\n",
              "      <td>224.500000</td>\n",
              "    </tr>\n",
              "    <tr>\n",
              "      <th>max</th>\n",
              "      <td>348.000000</td>\n",
              "      <td>489.000000</td>\n",
              "      <td>349.000000</td>\n",
              "    </tr>\n",
              "  </tbody>\n",
              "</table>\n",
              "</div>"
            ],
            "text/plain": [
              "               s1          s2          s3\n",
              "count  127.000000  127.000000  127.000000\n",
              "mean    98.110236  131.826772  175.023622\n",
              "std     96.724714   70.368993   60.104600\n",
              "min      2.000000    1.000000    1.000000\n",
              "25%      2.000000   91.000000  143.000000\n",
              "50%     88.000000  113.000000  161.000000\n",
              "75%    124.500000  152.500000  224.500000\n",
              "max    348.000000  489.000000  349.000000"
            ]
          },
          "metadata": {
            "tags": []
          },
          "execution_count": 55
        }
      ]
    }
  ]
}